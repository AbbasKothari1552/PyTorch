{
 "cells": [
  {
   "cell_type": "markdown",
   "id": "454a4e13-5302-44d9-a57b-495daca2b07e",
   "metadata": {},
   "source": [
    "# Dataset and DataLoader"
   ]
  },
  {
   "cell_type": "code",
   "execution_count": 1,
   "id": "f2d3f36e-53e2-4f85-8df1-efad3fa21cf9",
   "metadata": {},
   "outputs": [],
   "source": [
    "from sklearn.datasets import make_classification\n",
    "import torch"
   ]
  },
  {
   "cell_type": "markdown",
   "id": "5d75fb5e-9464-43a4-8443-e486afdd21de",
   "metadata": {},
   "source": [
    "### Step 1: Create a Classification Dataset using Sklearn"
   ]
  },
  {
   "cell_type": "code",
   "execution_count": 2,
   "id": "2d26a3e6-a56a-4c6e-b8ab-673f8dad9505",
   "metadata": {},
   "outputs": [],
   "source": [
    "X, y = make_classification(\n",
    "    n_samples=10,\n",
    "    n_features=2,\n",
    "    n_informative=2,\n",
    "    n_redundant=0,\n",
    "    n_classes=2,\n",
    "    random_state=42,\n",
    ")"
   ]
  },
  {
   "cell_type": "code",
   "execution_count": 3,
   "id": "4a64d9b3-674f-498c-bf49-f5848e824bc0",
   "metadata": {},
   "outputs": [
    {
     "data": {
      "text/plain": [
       "(10, 2)"
      ]
     },
     "execution_count": 3,
     "metadata": {},
     "output_type": "execute_result"
    }
   ],
   "source": [
    "X.shape"
   ]
  },
  {
   "cell_type": "code",
   "execution_count": 4,
   "id": "d25c84d4-3a2e-4de8-9681-5c0764fd9653",
   "metadata": {},
   "outputs": [
    {
     "data": {
      "text/plain": [
       "array([[ 1.06833894, -0.97007347],\n",
       "       [-1.14021544, -0.83879234],\n",
       "       [-2.8953973 ,  1.97686236],\n",
       "       [-0.72063436, -0.96059253],\n",
       "       [-1.96287438, -0.99225135],\n",
       "       [-0.9382051 , -0.54304815],\n",
       "       [ 1.72725924, -1.18582677],\n",
       "       [ 1.77736657,  1.51157598],\n",
       "       [ 1.89969252,  0.83444483],\n",
       "       [-0.58723065, -1.97171753]])"
      ]
     },
     "execution_count": 4,
     "metadata": {},
     "output_type": "execute_result"
    }
   ],
   "source": [
    "X"
   ]
  },
  {
   "cell_type": "markdown",
   "id": "290d3514-3ec9-4d87-9ecb-350c0f2ddd67",
   "metadata": {},
   "source": [
    "### Step 2: Convert numpy array to tensors "
   ]
  },
  {
   "cell_type": "code",
   "execution_count": 5,
   "id": "97137325-3d1a-4252-9011-445c08f5d76c",
   "metadata": {},
   "outputs": [
    {
     "data": {
      "text/plain": [
       "tensor([1, 0, 0, 0, 0, 1, 1, 1, 1, 0])"
      ]
     },
     "execution_count": 5,
     "metadata": {},
     "output_type": "execute_result"
    }
   ],
   "source": [
    "torch.from_numpy(X)\n",
    "torch.from_numpy(y)"
   ]
  },
  {
   "cell_type": "markdown",
   "id": "5cfbbe11-9998-4817-b641-b4aa6dec994a",
   "metadata": {},
   "source": [
    "### Step 3: Import `Dataset` & `DataLoader` class"
   ]
  },
  {
   "cell_type": "code",
   "execution_count": 7,
   "id": "2edecfc4-5c76-4318-9c45-c6166caafe30",
   "metadata": {},
   "outputs": [],
   "source": [
    "from torch.utils.data import Dataset, DataLoader"
   ]
  },
  {
   "cell_type": "markdown",
   "id": "7b60ed1b-52af-4c46-b935-271762d803cb",
   "metadata": {},
   "source": [
    "### Step 4: Create Custom Dataset class"
   ]
  },
  {
   "cell_type": "code",
   "execution_count": 8,
   "id": "025c5a5e-f335-4974-bfee-741cedd73350",
   "metadata": {},
   "outputs": [],
   "source": [
    "class CustomDataset(Dataset):\n",
    "\n",
    "    def __init__(self, features, labels):\n",
    "        self.features = features\n",
    "        self.labels = labels\n",
    "\n",
    "    def __len__(self):\n",
    "\n",
    "        return self.features.shape[0]\n",
    "\n",
    "    def __getitem__(self, index):\n",
    "\n",
    "        return self.features[index], self.labels[index]"
   ]
  },
  {
   "cell_type": "code",
   "execution_count": 9,
   "id": "4c65906e-d3cf-4c2b-94cc-32820fd7d407",
   "metadata": {},
   "outputs": [],
   "source": [
    "# create object of CustomDataset\n",
    "\n",
    "dataset = CustomDataset(X, y)"
   ]
  },
  {
   "cell_type": "code",
   "execution_count": 10,
   "id": "fd61d0f0-e875-493c-b573-8aa7a260d4c6",
   "metadata": {},
   "outputs": [
    {
     "name": "stdout",
     "output_type": "stream",
     "text": [
      "10\n"
     ]
    }
   ],
   "source": [
    "print(len(dataset))"
   ]
  },
  {
   "cell_type": "code",
   "execution_count": 15,
   "id": "15fa58b5-b201-47a1-804f-decef149c4e0",
   "metadata": {},
   "outputs": [
    {
     "name": "stdout",
     "output_type": "stream",
     "text": [
      "(array([-0.72063436, -0.96059253]), 0)\n"
     ]
    }
   ],
   "source": [
    "print(dataset[3])"
   ]
  },
  {
   "cell_type": "markdown",
   "id": "102e63b2-a0af-41af-b048-ad3d3f3a30a4",
   "metadata": {},
   "source": [
    "### Step 5: Create object for `DataLoader` class"
   ]
  },
  {
   "cell_type": "code",
   "execution_count": 16,
   "id": "1485c2b0-5d4a-46dd-9cc9-a2437924c378",
   "metadata": {},
   "outputs": [],
   "source": [
    "dataloader = DataLoader(dataset, batch_size=2, shuffle=True)"
   ]
  },
  {
   "cell_type": "code",
   "execution_count": 23,
   "id": "57c75d23-64b1-45df-ae4f-3645006d7485",
   "metadata": {},
   "outputs": [
    {
     "name": "stdout",
     "output_type": "stream",
     "text": [
      "Features: tensor([[ 1.7273, -1.1858],\n",
      "        [ 1.8997,  0.8344]], dtype=torch.float64)\n",
      "Labels: tensor([1, 1])\n",
      "---------------------------------------------------------------------------\n",
      "Features: tensor([[-1.9629, -0.9923],\n",
      "        [-1.1402, -0.8388]], dtype=torch.float64)\n",
      "Labels: tensor([0, 0])\n",
      "---------------------------------------------------------------------------\n",
      "Features: tensor([[ 1.0683, -0.9701],\n",
      "        [-0.7206, -0.9606]], dtype=torch.float64)\n",
      "Labels: tensor([1, 0])\n",
      "---------------------------------------------------------------------------\n",
      "Features: tensor([[ 1.7774,  1.5116],\n",
      "        [-0.5872, -1.9717]], dtype=torch.float64)\n",
      "Labels: tensor([1, 0])\n",
      "---------------------------------------------------------------------------\n",
      "Features: tensor([[-2.8954,  1.9769],\n",
      "        [-0.9382, -0.5430]], dtype=torch.float64)\n",
      "Labels: tensor([0, 1])\n",
      "---------------------------------------------------------------------------\n"
     ]
    }
   ],
   "source": [
    "# Get Values by looping\n",
    "for batch_features, batch_labels in dataloader:\n",
    "    print(f\"Features: {batch_features}\")\n",
    "    print(f\"Labels: {batch_labels}\")\n",
    "    print(\"-\" * 75)"
   ]
  },
  {
   "cell_type": "code",
   "execution_count": null,
   "id": "2ef6c9f9-91ce-4afd-8985-4ca35b89e4c3",
   "metadata": {},
   "outputs": [],
   "source": []
  }
 ],
 "metadata": {
  "kernelspec": {
   "display_name": "Python (rapids-24.10)",
   "language": "python",
   "name": "base"
  },
  "language_info": {
   "codemirror_mode": {
    "name": "ipython",
    "version": 3
   },
   "file_extension": ".py",
   "mimetype": "text/x-python",
   "name": "python",
   "nbconvert_exporter": "python",
   "pygments_lexer": "ipython3",
   "version": "3.10.15"
  }
 },
 "nbformat": 4,
 "nbformat_minor": 5
}
