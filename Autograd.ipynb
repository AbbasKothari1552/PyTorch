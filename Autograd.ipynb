{
 "cells": [
  {
   "cell_type": "markdown",
   "id": "2eb314e0-612d-44c1-b4e4-e9ee22ae51e7",
   "metadata": {},
   "source": [
    "# Autograd : Derivative calculation tool"
   ]
  },
  {
   "cell_type": "code",
   "execution_count": 1,
   "id": "eb00b038-9804-450f-9577-4c540948b99e",
   "metadata": {},
   "outputs": [],
   "source": [
    "import torch"
   ]
  },
  {
   "cell_type": "markdown",
   "id": "4f5389d9-d662-41fa-ab60-a1089d5cbe7b",
   "metadata": {},
   "source": [
    "#### Define a tensor with `requires_grad=True`"
   ]
  },
  {
   "cell_type": "code",
   "execution_count": 20,
   "id": "3ed88e74-18b9-49e9-9c36-07cf8863c0c5",
   "metadata": {},
   "outputs": [],
   "source": [
    "x = torch.tensor(3.0, requires_grad=True)"
   ]
  },
  {
   "cell_type": "code",
   "execution_count": 21,
   "id": "c571afb8-7ac5-4b3c-affa-86678d907931",
   "metadata": {},
   "outputs": [],
   "source": [
    "y = x**2"
   ]
  },
  {
   "cell_type": "code",
   "execution_count": 22,
   "id": "8ac5b423-52de-4d1f-bab3-a0d451627833",
   "metadata": {},
   "outputs": [
    {
     "name": "stdout",
     "output_type": "stream",
     "text": [
      "tensor(3., requires_grad=True)\n",
      "tensor(9., grad_fn=<PowBackward0>)\n"
     ]
    }
   ],
   "source": [
    "print(x)\n",
    "print(y)"
   ]
  },
  {
   "cell_type": "markdown",
   "id": "95586aff-40d4-408c-b5d7-2bff6f32e4fd",
   "metadata": {},
   "source": [
    "#### CAlculate derivative of dy/dx"
   ]
  },
  {
   "cell_type": "code",
   "execution_count": 12,
   "id": "661bcfe5-11dd-4c79-b4d6-227034cb4ac8",
   "metadata": {},
   "outputs": [],
   "source": [
    "# Calculates all the derivatives in backward.\n",
    "y.backward()"
   ]
  },
  {
   "cell_type": "code",
   "execution_count": 14,
   "id": "abe10fa0-7c6f-4c2f-bd7f-017ab8046fc2",
   "metadata": {},
   "outputs": [
    {
     "data": {
      "text/plain": [
       "tensor(6.)"
      ]
     },
     "execution_count": 14,
     "metadata": {},
     "output_type": "execute_result"
    }
   ],
   "source": [
    "# value of dy/dx\n",
    "x.grad"
   ]
  },
  {
   "cell_type": "code",
   "execution_count": 23,
   "id": "628ac09f-e7ac-4f15-875b-d1d3a7d4551c",
   "metadata": {},
   "outputs": [],
   "source": [
    "z = torch.sin(y)"
   ]
  },
  {
   "cell_type": "code",
   "execution_count": 24,
   "id": "2899be35-964b-4138-b36c-33ac7362ad6d",
   "metadata": {},
   "outputs": [
    {
     "name": "stdout",
     "output_type": "stream",
     "text": [
      "tensor(3., requires_grad=True)\n",
      "tensor(9., grad_fn=<PowBackward0>)\n",
      "tensor(0.4121, grad_fn=<SinBackward0>)\n"
     ]
    }
   ],
   "source": [
    "print(x)\n",
    "print(y)\n",
    "print(z)"
   ]
  },
  {
   "cell_type": "code",
   "execution_count": 25,
   "id": "954c1442-77f9-4d14-a680-af1c9e5f9162",
   "metadata": {},
   "outputs": [],
   "source": [
    "z.backward(retain_graph=True)"
   ]
  },
  {
   "cell_type": "code",
   "execution_count": 26,
   "id": "4f7a9914-9bce-4f66-8c07-b2ae01a6c507",
   "metadata": {},
   "outputs": [
    {
     "name": "stdout",
     "output_type": "stream",
     "text": [
      "None\n",
      "tensor(-5.4668)\n"
     ]
    },
    {
     "name": "stderr",
     "output_type": "stream",
     "text": [
      "/tmp/ipykernel_545/2314068748.py:1: UserWarning: The .grad attribute of a Tensor that is not a leaf Tensor is being accessed. Its .grad attribute won't be populated during autograd.backward(). If you indeed want the .grad field to be populated for a non-leaf Tensor, use .retain_grad() on the non-leaf Tensor. If you access the non-leaf Tensor by mistake, make sure you access the leaf Tensor instead. See github.com/pytorch/pytorch/pull/30531 for more informations. (Triggered internally at /opt/conda/conda-bld/pytorch_1729647327489/work/build/aten/src/ATen/core/TensorBody.h:489.)\n",
      "  print(y.grad)\n"
     ]
    }
   ],
   "source": [
    "print(y.grad)\n",
    "print(x.grad)"
   ]
  },
  {
   "cell_type": "markdown",
   "id": "58379804-e82c-4745-9f1b-9fa6b4a0a459",
   "metadata": {},
   "source": [
    "### NN using autograd"
   ]
  },
  {
   "cell_type": "code",
   "execution_count": 27,
   "id": "6d2fd284-ce79-446a-a130-56be4f718ef3",
   "metadata": {},
   "outputs": [],
   "source": [
    "x = torch.tensor(6.79)\n",
    "y = torch.tensor(0)"
   ]
  },
  {
   "cell_type": "code",
   "execution_count": 28,
   "id": "a93d6580-1e4e-4b00-a264-1ada44af153a",
   "metadata": {},
   "outputs": [],
   "source": [
    "w = torch.tensor(1.0, requires_grad=True)\n",
    "b = torch.tensor(0.0, requires_grad=True)"
   ]
  },
  {
   "cell_type": "code",
   "execution_count": 32,
   "id": "1d39e164-940e-4e87-904f-20d00c31fb70",
   "metadata": {},
   "outputs": [],
   "source": [
    "# loss function\n",
    "def binary_cross_entropy_loss(y_pred, y):\n",
    "    return -(y*torch.log(y_pred)+(1-y)*torch.log(1-y_pred))"
   ]
  },
  {
   "cell_type": "code",
   "execution_count": 29,
   "id": "f0c03ac1-fd70-46fb-bac7-d67e50df0288",
   "metadata": {},
   "outputs": [
    {
     "data": {
      "text/plain": [
       "tensor(6.7900, grad_fn=<AddBackward0>)"
      ]
     },
     "execution_count": 29,
     "metadata": {},
     "output_type": "execute_result"
    }
   ],
   "source": [
    "# Forward Pass\n",
    "z = w*x + b\n",
    "z"
   ]
  },
  {
   "cell_type": "code",
   "execution_count": 30,
   "id": "ac88e091-6078-48db-8667-87749449392e",
   "metadata": {},
   "outputs": [
    {
     "data": {
      "text/plain": [
       "tensor(0.9989, grad_fn=<SigmoidBackward0>)"
      ]
     },
     "execution_count": 30,
     "metadata": {},
     "output_type": "execute_result"
    }
   ],
   "source": [
    "y_pred = torch.sigmoid(z)\n",
    "y_pred"
   ]
  },
  {
   "cell_type": "code",
   "execution_count": 33,
   "id": "7c91ebfd-b3ee-45ea-b99e-96c84e7fdff5",
   "metadata": {},
   "outputs": [
    {
     "data": {
      "text/plain": [
       "tensor(6.7911, grad_fn=<NegBackward0>)"
      ]
     },
     "execution_count": 33,
     "metadata": {},
     "output_type": "execute_result"
    }
   ],
   "source": [
    "loss = binary_cross_entropy_loss(y_pred, y)\n",
    "loss"
   ]
  },
  {
   "cell_type": "code",
   "execution_count": 34,
   "id": "cdaa536a-13e2-4e63-bdde-9eaf0ca80243",
   "metadata": {},
   "outputs": [],
   "source": [
    "loss.backward()"
   ]
  },
  {
   "cell_type": "code",
   "execution_count": 35,
   "id": "7ddac4c5-a821-4586-a1f1-5cdea56c9a8c",
   "metadata": {},
   "outputs": [
    {
     "name": "stdout",
     "output_type": "stream",
     "text": [
      "tensor(6.7824)\n",
      "tensor(0.9989)\n"
     ]
    }
   ],
   "source": [
    "print(w.grad)\n",
    "print(b.grad)"
   ]
  },
  {
   "cell_type": "markdown",
   "id": "c9295455-446d-40dd-adba-f02e4f7f3ddf",
   "metadata": {},
   "source": [
    "### For vector"
   ]
  },
  {
   "cell_type": "code",
   "execution_count": 37,
   "id": "5db213a3-7c72-4538-bee3-5f46360577fa",
   "metadata": {},
   "outputs": [
    {
     "data": {
      "text/plain": [
       "tensor([1., 2., 3.], requires_grad=True)"
      ]
     },
     "execution_count": 37,
     "metadata": {},
     "output_type": "execute_result"
    }
   ],
   "source": [
    "x = torch.tensor([1.0, 2.0, 3.0], requires_grad=True)\n",
    "x"
   ]
  },
  {
   "cell_type": "code",
   "execution_count": 39,
   "id": "6f53ec74-1995-44e7-8c64-237eaa0d7d25",
   "metadata": {},
   "outputs": [
    {
     "data": {
      "text/plain": [
       "tensor(4.6667, grad_fn=<MeanBackward0>)"
      ]
     },
     "execution_count": 39,
     "metadata": {},
     "output_type": "execute_result"
    }
   ],
   "source": [
    "y = (x**2).mean()\n",
    "y"
   ]
  },
  {
   "cell_type": "code",
   "execution_count": 40,
   "id": "272cc1e6-ca24-4d8d-aac0-346b1bfcb4d4",
   "metadata": {},
   "outputs": [],
   "source": [
    "y.backward()"
   ]
  },
  {
   "cell_type": "code",
   "execution_count": 41,
   "id": "9533d125-a212-49ed-8e44-9d7c1ef16476",
   "metadata": {},
   "outputs": [
    {
     "data": {
      "text/plain": [
       "tensor([0.6667, 1.3333, 2.0000])"
      ]
     },
     "execution_count": 41,
     "metadata": {},
     "output_type": "execute_result"
    }
   ],
   "source": [
    "x.grad"
   ]
  },
  {
   "cell_type": "markdown",
   "id": "d232246c-4269-47f0-98e9-c8a557c7cda7",
   "metadata": {},
   "source": [
    "### Clearing grad"
   ]
  },
  {
   "cell_type": "code",
   "execution_count": 51,
   "id": "6270f64b-cdd6-4322-b4e9-54e7d79a79c6",
   "metadata": {},
   "outputs": [],
   "source": [
    "x = torch.tensor(3.0, requires_grad=True)"
   ]
  },
  {
   "cell_type": "code",
   "execution_count": 73,
   "id": "905647da-bcaa-401f-8a1b-1edcbb184c37",
   "metadata": {},
   "outputs": [],
   "source": [
    "y = x ** 2"
   ]
  },
  {
   "cell_type": "code",
   "execution_count": 74,
   "id": "69226fa4-d249-4339-bae5-18c7a2e946d6",
   "metadata": {},
   "outputs": [],
   "source": [
    "y.backward()"
   ]
  },
  {
   "cell_type": "code",
   "execution_count": 75,
   "id": "7c832da1-54ff-4984-a614-d8f43e3bc756",
   "metadata": {},
   "outputs": [
    {
     "data": {
      "text/plain": [
       "tensor(12.)"
      ]
     },
     "execution_count": 75,
     "metadata": {},
     "output_type": "execute_result"
    }
   ],
   "source": [
    "# by running it 2 times it sum the grad from previous value\n",
    "x.grad"
   ]
  },
  {
   "cell_type": "code",
   "execution_count": 69,
   "id": "36cf41db-2626-423e-a33f-a1741e672bf5",
   "metadata": {},
   "outputs": [
    {
     "data": {
      "text/plain": [
       "tensor(0.)"
      ]
     },
     "execution_count": 69,
     "metadata": {},
     "output_type": "execute_result"
    }
   ],
   "source": [
    "x.grad.zero_()"
   ]
  },
  {
   "cell_type": "markdown",
   "id": "add81032-32cb-481c-a8e2-692d07093cb3",
   "metadata": {},
   "source": [
    "Run above codes for more intuition"
   ]
  },
  {
   "cell_type": "markdown",
   "id": "89934420-8704-417f-a9e3-88ae9345a702",
   "metadata": {},
   "source": [
    "### Disable gradient tracking"
   ]
  },
  {
   "cell_type": "code",
   "execution_count": 42,
   "id": "18e1e433-fd2d-4bc5-85a7-8fe95d7bccc7",
   "metadata": {},
   "outputs": [],
   "source": [
    "x = torch.tensor(3.0, requires_grad=True)\n",
    "y = x ** 2"
   ]
  },
  {
   "cell_type": "code",
   "execution_count": 43,
   "id": "240e9a50-5e3d-4866-81ab-322c73901b74",
   "metadata": {},
   "outputs": [],
   "source": [
    "y.backward()"
   ]
  },
  {
   "cell_type": "code",
   "execution_count": 44,
   "id": "d30e232a-0eca-4ff5-a89c-77c1f78d17fa",
   "metadata": {},
   "outputs": [
    {
     "data": {
      "text/plain": [
       "tensor(6.)"
      ]
     },
     "execution_count": 44,
     "metadata": {},
     "output_type": "execute_result"
    }
   ],
   "source": [
    "x.grad"
   ]
  },
  {
   "cell_type": "code",
   "execution_count": 45,
   "id": "d91b28ce-45f2-423d-927c-c39f283328fc",
   "metadata": {},
   "outputs": [
    {
     "data": {
      "text/plain": [
       "tensor(3.)"
      ]
     },
     "execution_count": 45,
     "metadata": {},
     "output_type": "execute_result"
    }
   ],
   "source": [
    "# option 1\n",
    "x.requires_grad_(False)"
   ]
  },
  {
   "cell_type": "code",
   "execution_count": 48,
   "id": "1bb83348-a3a3-4025-97ad-54f84417b570",
   "metadata": {},
   "outputs": [
    {
     "name": "stdout",
     "output_type": "stream",
     "text": [
      "x: tensor([1., 2., 3.], requires_grad=True)\n",
      "z: tensor([1., 2., 3.])\n"
     ]
    }
   ],
   "source": [
    "# option 2: Detach\n",
    "x = torch.tensor([1.0, 2.0, 3.0], requires_grad=True)\n",
    "print(\"x:\", x)\n",
    "\n",
    "z = x.detach()\n",
    "print(\"z:\", z)"
   ]
  },
  {
   "cell_type": "code",
   "execution_count": 50,
   "id": "2c99a211-b5a3-41e6-b4a9-60302eaf10e1",
   "metadata": {},
   "outputs": [
    {
     "name": "stdout",
     "output_type": "stream",
     "text": [
      "tensor([1., 4., 9.], grad_fn=<PowBackward0>)\n",
      "tensor([1., 4., 9.])\n"
     ]
    }
   ],
   "source": [
    "# option 3: no_grad() \n",
    "x = torch.tensor([1.0, 2.0, 3.0], requires_grad=True)\n",
    "\n",
    "y = x ** 2 \n",
    "print(y)\n",
    "\n",
    "with torch.no_grad():\n",
    "    y = x ** 2\n",
    "    print(y)"
   ]
  },
  {
   "cell_type": "code",
   "execution_count": null,
   "id": "dff608cd-0d72-47b0-b3d9-5528cb6283df",
   "metadata": {},
   "outputs": [],
   "source": []
  }
 ],
 "metadata": {
  "kernelspec": {
   "display_name": "Python (rapids-24.10)",
   "language": "python",
   "name": "base"
  },
  "language_info": {
   "codemirror_mode": {
    "name": "ipython",
    "version": 3
   },
   "file_extension": ".py",
   "mimetype": "text/x-python",
   "name": "python",
   "nbconvert_exporter": "python",
   "pygments_lexer": "ipython3",
   "version": "3.10.15"
  }
 },
 "nbformat": 4,
 "nbformat_minor": 5
}
