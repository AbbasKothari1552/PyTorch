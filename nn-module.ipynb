{
 "cells": [
  {
   "cell_type": "markdown",
   "id": "a3956b2a-ffa0-4d07-964b-917cea3f7bde",
   "metadata": {},
   "source": [
    "# Pytorch nn module"
   ]
  },
  {
   "cell_type": "code",
   "execution_count": 1,
   "id": "16c10db6-48fe-4789-8941-f6302508d62e",
   "metadata": {},
   "outputs": [],
   "source": [
    "# import\n",
    "import torch\n",
    "import torch.nn as nn"
   ]
  },
  {
   "cell_type": "code",
   "execution_count": 10,
   "id": "d58197f1-9040-4177-9c41-c60f47e495f9",
   "metadata": {},
   "outputs": [],
   "source": [
    "# create nn model\n",
    "class Model(nn.Module):\n",
    "\n",
    "    def __init__(self, num_features):\n",
    "        # call super class (nn class) constructor.\n",
    "        super().__init__()\n",
    "        # create a single neuron.\n",
    "        self.linear = nn.Linear(num_features, 1)\n",
    "        self.sigmoid = nn.Sigmoid()\n",
    "\n",
    "    def forward(self, features):\n",
    "\n",
    "        out = self.linear(features)\n",
    "        out = self.sigmoid(out)\n",
    "\n",
    "        return out"
   ]
  },
  {
   "cell_type": "code",
   "execution_count": 6,
   "id": "38b6cd2a-baac-4879-b831-a5042b0ef946",
   "metadata": {},
   "outputs": [
    {
     "data": {
      "text/plain": [
       "tensor([[0.5918],\n",
       "        [0.5448],\n",
       "        [0.5717],\n",
       "        [0.6547],\n",
       "        [0.6257],\n",
       "        [0.4926],\n",
       "        [0.5170],\n",
       "        [0.5369],\n",
       "        [0.6145],\n",
       "        [0.5827]], grad_fn=<SigmoidBackward0>)"
      ]
     },
     "execution_count": 6,
     "metadata": {},
     "output_type": "execute_result"
    }
   ],
   "source": [
    "# create dataset\n",
    "features = torch.rand(10, 5)\n",
    "\n",
    "# create model\n",
    "model = Model(features.shape[1])\n",
    "\n",
    "# call model for forward pass\n",
    "model(features)"
   ]
  },
  {
   "cell_type": "code",
   "execution_count": 7,
   "id": "4e4fbac6-6312-4a06-b996-f9556dcd39b5",
   "metadata": {},
   "outputs": [
    {
     "name": "stdout",
     "output_type": "stream",
     "text": [
      "Parameter containing:\n",
      "tensor([[-0.0425,  0.3076,  0.2490, -0.4051, -0.2240]], requires_grad=True)\n",
      "Parameter containing:\n",
      "tensor([0.4150], requires_grad=True)\n"
     ]
    }
   ],
   "source": [
    "# model weights & bias\n",
    "\n",
    "print(model.linear.weight)\n",
    "print(model.linear.bias)"
   ]
  },
  {
   "cell_type": "code",
   "execution_count": 8,
   "id": "600eadf7-c79f-428c-a9a0-f8fa95853df8",
   "metadata": {},
   "outputs": [
    {
     "name": "stdout",
     "output_type": "stream",
     "text": [
      "Collecting torchinfo\n",
      "  Downloading torchinfo-1.8.0-py3-none-any.whl.metadata (21 kB)\n",
      "Downloading torchinfo-1.8.0-py3-none-any.whl (23 kB)\n",
      "Installing collected packages: torchinfo\n",
      "Successfully installed torchinfo-1.8.0\n"
     ]
    }
   ],
   "source": [
    "!pip install torchinfo"
   ]
  },
  {
   "cell_type": "code",
   "execution_count": 9,
   "id": "b0681bcc-d79e-43a7-9512-00ecf9c6da27",
   "metadata": {},
   "outputs": [
    {
     "data": {
      "text/plain": [
       "==========================================================================================\n",
       "Layer (type:depth-idx)                   Output Shape              Param #\n",
       "==========================================================================================\n",
       "Model                                    [10, 1]                   --\n",
       "├─Linear: 1-1                            [10, 1]                   6\n",
       "├─Sigmoid: 1-2                           [10, 1]                   --\n",
       "==========================================================================================\n",
       "Total params: 6\n",
       "Trainable params: 6\n",
       "Non-trainable params: 0\n",
       "Total mult-adds (M): 0.00\n",
       "==========================================================================================\n",
       "Input size (MB): 0.00\n",
       "Forward/backward pass size (MB): 0.00\n",
       "Params size (MB): 0.00\n",
       "Estimated Total Size (MB): 0.00\n",
       "=========================================================================================="
      ]
     },
     "execution_count": 9,
     "metadata": {},
     "output_type": "execute_result"
    }
   ],
   "source": [
    "from torchinfo import summary\n",
    "\n",
    "summary(model, input_size=(10, 5))"
   ]
  },
  {
   "cell_type": "markdown",
   "id": "585cace1-88a2-49f9-aaa6-0d4edbadeeb8",
   "metadata": {},
   "source": [
    "# Neural Network : 1 hidden layer of 3 neurons & 1 O/P layer of 1 neuron"
   ]
  },
  {
   "cell_type": "code",
   "execution_count": 19,
   "id": "7926c1ac-214c-41f1-af9c-dfe4f8fc0fbc",
   "metadata": {},
   "outputs": [],
   "source": [
    "# create nn model\n",
    "class Model(nn.Module):\n",
    "\n",
    "    # def __init__(self, num_features):\n",
    "    #     # call super class (nn class) constructor.\n",
    "    #     super().__init__()\n",
    "    #     # create hidden layer with output of 3.\n",
    "    #     self.linear1 = nn.Linear(num_features, 3)\n",
    "    #     self.relu = nn.ReLU()\n",
    "    #     # create output layer of 1 neuron with 1 o/p.\n",
    "    #     self.linear2 = nn.Linear(3, 1)\n",
    "    #     self.sigmoid = nn.Sigmoid()\n",
    "\n",
    "    # def forward(self, features):\n",
    "    #     # layer 1\n",
    "    #     out = self.linear1(features)\n",
    "    #     out = self.relu(out)\n",
    "    #     # layer 2\n",
    "    #     out = self.linear2(out)\n",
    "    #     out = self.sigmoid(out)\n",
    "\n",
    "    # sequential \n",
    "    def __init__(self, num_features):\n",
    "        # call super class (nn class) constructor.\n",
    "        super().__init__()\n",
    "\n",
    "        self.network = nn.Sequential(\n",
    "        \n",
    "        nn.Linear(num_features, 3),\n",
    "        nn.ReLU(),\n",
    "        nn.Linear(3, 1),\n",
    "        nn.Sigmoid(),\n",
    "        )\n",
    "\n",
    "    def forward(self, features):\n",
    "        out = self.network(features)\n",
    "        return out"
   ]
  },
  {
   "cell_type": "code",
   "execution_count": 20,
   "id": "8d908622-fcf5-4fdb-9e78-c9142524da4f",
   "metadata": {},
   "outputs": [
    {
     "data": {
      "text/plain": [
       "tensor([[0.5155],\n",
       "        [0.5090],\n",
       "        [0.5240],\n",
       "        [0.5001],\n",
       "        [0.5001],\n",
       "        [0.5001],\n",
       "        [0.5271],\n",
       "        [0.5001],\n",
       "        [0.5001],\n",
       "        [0.5260]], grad_fn=<SigmoidBackward0>)"
      ]
     },
     "execution_count": 20,
     "metadata": {},
     "output_type": "execute_result"
    }
   ],
   "source": [
    "# create dataset\n",
    "features = torch.rand(10, 5)\n",
    "\n",
    "# create model\n",
    "model = Model(features.shape[1])\n",
    "\n",
    "# call model for forward pass\n",
    "model(features)"
   ]
  },
  {
   "cell_type": "code",
   "execution_count": 18,
   "id": "9002c255-82f1-429d-9c8e-40f6cafeec8c",
   "metadata": {},
   "outputs": [
    {
     "name": "stdout",
     "output_type": "stream",
     "text": [
      "Parameter containing:\n",
      "tensor([[ 0.2599,  0.1335,  0.1326, -0.3455,  0.2519],\n",
      "        [ 0.0351,  0.3467,  0.1212, -0.4402, -0.2869],\n",
      "        [ 0.2860,  0.3852, -0.3624,  0.1211, -0.2676]], requires_grad=True)\n",
      "Parameter containing:\n",
      "tensor([ 0.0094,  0.1434, -0.2445], requires_grad=True)\n",
      "Parameter containing:\n",
      "tensor([[ 0.1735, -0.1544,  0.4339]], requires_grad=True)\n",
      "Parameter containing:\n",
      "tensor([-0.3340], requires_grad=True)\n"
     ]
    }
   ],
   "source": [
    "# model weights & bias\n",
    "\n",
    "print(model.linear1.weight)\n",
    "print(model.linear1.bias)\n",
    "print(model.linear2.weight)\n",
    "print(model.linear2.bias)\n"
   ]
  },
  {
   "cell_type": "code",
   "execution_count": null,
   "id": "671f1320-355c-426c-a02f-d5f6f45823aa",
   "metadata": {},
   "outputs": [],
   "source": []
  }
 ],
 "metadata": {
  "kernelspec": {
   "display_name": "Python (rapids-24.10)",
   "language": "python",
   "name": "base"
  },
  "language_info": {
   "codemirror_mode": {
    "name": "ipython",
    "version": 3
   },
   "file_extension": ".py",
   "mimetype": "text/x-python",
   "name": "python",
   "nbconvert_exporter": "python",
   "pygments_lexer": "ipython3",
   "version": "3.10.15"
  }
 },
 "nbformat": 4,
 "nbformat_minor": 5
}
