{
 "cells": [
  {
   "cell_type": "markdown",
   "id": "b95a7c85-bfbf-4964-a84d-bb1fc8548838",
   "metadata": {},
   "source": [
    "# Training a single neuron"
   ]
  },
  {
   "cell_type": "markdown",
   "id": "e845fc8e-4585-4d4a-8d6f-9087b2fa18ea",
   "metadata": {},
   "source": [
    "## Import Libraries"
   ]
  },
  {
   "cell_type": "code",
   "execution_count": 37,
   "id": "c0c15012-069e-4301-bcce-8d0d8bdc9c0b",
   "metadata": {},
   "outputs": [],
   "source": [
    "import numpy as np\n",
    "import pandas as pd\n",
    "import torch\n",
    "import torch.nn as nn\n",
    "from sklearn.model_selection import train_test_split\n",
    "from sklearn.preprocessing import StandardScaler, LabelEncoder"
   ]
  },
  {
   "cell_type": "markdown",
   "id": "6bc2796f-6ab3-4b56-86af-4dc73117bee0",
   "metadata": {},
   "source": [
    "## Import Dataset"
   ]
  },
  {
   "cell_type": "code",
   "execution_count": 38,
   "id": "92c7fb2a-3006-4fd8-b427-079f3f2d251c",
   "metadata": {},
   "outputs": [
    {
     "data": {
      "text/html": [
       "<div>\n",
       "<style scoped>\n",
       "    .dataframe tbody tr th:only-of-type {\n",
       "        vertical-align: middle;\n",
       "    }\n",
       "\n",
       "    .dataframe tbody tr th {\n",
       "        vertical-align: top;\n",
       "    }\n",
       "\n",
       "    .dataframe thead th {\n",
       "        text-align: right;\n",
       "    }\n",
       "</style>\n",
       "<table border=\"1\" class=\"dataframe\">\n",
       "  <thead>\n",
       "    <tr style=\"text-align: right;\">\n",
       "      <th></th>\n",
       "      <th>id</th>\n",
       "      <th>diagnosis</th>\n",
       "      <th>radius_mean</th>\n",
       "      <th>texture_mean</th>\n",
       "      <th>perimeter_mean</th>\n",
       "      <th>area_mean</th>\n",
       "      <th>smoothness_mean</th>\n",
       "      <th>compactness_mean</th>\n",
       "      <th>concavity_mean</th>\n",
       "      <th>concave points_mean</th>\n",
       "      <th>...</th>\n",
       "      <th>texture_worst</th>\n",
       "      <th>perimeter_worst</th>\n",
       "      <th>area_worst</th>\n",
       "      <th>smoothness_worst</th>\n",
       "      <th>compactness_worst</th>\n",
       "      <th>concavity_worst</th>\n",
       "      <th>concave points_worst</th>\n",
       "      <th>symmetry_worst</th>\n",
       "      <th>fractal_dimension_worst</th>\n",
       "      <th>Unnamed: 32</th>\n",
       "    </tr>\n",
       "  </thead>\n",
       "  <tbody>\n",
       "    <tr>\n",
       "      <th>0</th>\n",
       "      <td>842302</td>\n",
       "      <td>M</td>\n",
       "      <td>17.99</td>\n",
       "      <td>10.38</td>\n",
       "      <td>122.80</td>\n",
       "      <td>1001.0</td>\n",
       "      <td>0.11840</td>\n",
       "      <td>0.27760</td>\n",
       "      <td>0.3001</td>\n",
       "      <td>0.14710</td>\n",
       "      <td>...</td>\n",
       "      <td>17.33</td>\n",
       "      <td>184.60</td>\n",
       "      <td>2019.0</td>\n",
       "      <td>0.1622</td>\n",
       "      <td>0.6656</td>\n",
       "      <td>0.7119</td>\n",
       "      <td>0.2654</td>\n",
       "      <td>0.4601</td>\n",
       "      <td>0.11890</td>\n",
       "      <td>NaN</td>\n",
       "    </tr>\n",
       "    <tr>\n",
       "      <th>1</th>\n",
       "      <td>842517</td>\n",
       "      <td>M</td>\n",
       "      <td>20.57</td>\n",
       "      <td>17.77</td>\n",
       "      <td>132.90</td>\n",
       "      <td>1326.0</td>\n",
       "      <td>0.08474</td>\n",
       "      <td>0.07864</td>\n",
       "      <td>0.0869</td>\n",
       "      <td>0.07017</td>\n",
       "      <td>...</td>\n",
       "      <td>23.41</td>\n",
       "      <td>158.80</td>\n",
       "      <td>1956.0</td>\n",
       "      <td>0.1238</td>\n",
       "      <td>0.1866</td>\n",
       "      <td>0.2416</td>\n",
       "      <td>0.1860</td>\n",
       "      <td>0.2750</td>\n",
       "      <td>0.08902</td>\n",
       "      <td>NaN</td>\n",
       "    </tr>\n",
       "    <tr>\n",
       "      <th>2</th>\n",
       "      <td>84300903</td>\n",
       "      <td>M</td>\n",
       "      <td>19.69</td>\n",
       "      <td>21.25</td>\n",
       "      <td>130.00</td>\n",
       "      <td>1203.0</td>\n",
       "      <td>0.10960</td>\n",
       "      <td>0.15990</td>\n",
       "      <td>0.1974</td>\n",
       "      <td>0.12790</td>\n",
       "      <td>...</td>\n",
       "      <td>25.53</td>\n",
       "      <td>152.50</td>\n",
       "      <td>1709.0</td>\n",
       "      <td>0.1444</td>\n",
       "      <td>0.4245</td>\n",
       "      <td>0.4504</td>\n",
       "      <td>0.2430</td>\n",
       "      <td>0.3613</td>\n",
       "      <td>0.08758</td>\n",
       "      <td>NaN</td>\n",
       "    </tr>\n",
       "    <tr>\n",
       "      <th>3</th>\n",
       "      <td>84348301</td>\n",
       "      <td>M</td>\n",
       "      <td>11.42</td>\n",
       "      <td>20.38</td>\n",
       "      <td>77.58</td>\n",
       "      <td>386.1</td>\n",
       "      <td>0.14250</td>\n",
       "      <td>0.28390</td>\n",
       "      <td>0.2414</td>\n",
       "      <td>0.10520</td>\n",
       "      <td>...</td>\n",
       "      <td>26.50</td>\n",
       "      <td>98.87</td>\n",
       "      <td>567.7</td>\n",
       "      <td>0.2098</td>\n",
       "      <td>0.8663</td>\n",
       "      <td>0.6869</td>\n",
       "      <td>0.2575</td>\n",
       "      <td>0.6638</td>\n",
       "      <td>0.17300</td>\n",
       "      <td>NaN</td>\n",
       "    </tr>\n",
       "    <tr>\n",
       "      <th>4</th>\n",
       "      <td>84358402</td>\n",
       "      <td>M</td>\n",
       "      <td>20.29</td>\n",
       "      <td>14.34</td>\n",
       "      <td>135.10</td>\n",
       "      <td>1297.0</td>\n",
       "      <td>0.10030</td>\n",
       "      <td>0.13280</td>\n",
       "      <td>0.1980</td>\n",
       "      <td>0.10430</td>\n",
       "      <td>...</td>\n",
       "      <td>16.67</td>\n",
       "      <td>152.20</td>\n",
       "      <td>1575.0</td>\n",
       "      <td>0.1374</td>\n",
       "      <td>0.2050</td>\n",
       "      <td>0.4000</td>\n",
       "      <td>0.1625</td>\n",
       "      <td>0.2364</td>\n",
       "      <td>0.07678</td>\n",
       "      <td>NaN</td>\n",
       "    </tr>\n",
       "  </tbody>\n",
       "</table>\n",
       "<p>5 rows × 33 columns</p>\n",
       "</div>"
      ],
      "text/plain": [
       "         id diagnosis  radius_mean  texture_mean  perimeter_mean  area_mean  \\\n",
       "0    842302         M        17.99         10.38          122.80     1001.0   \n",
       "1    842517         M        20.57         17.77          132.90     1326.0   \n",
       "2  84300903         M        19.69         21.25          130.00     1203.0   \n",
       "3  84348301         M        11.42         20.38           77.58      386.1   \n",
       "4  84358402         M        20.29         14.34          135.10     1297.0   \n",
       "\n",
       "   smoothness_mean  compactness_mean  concavity_mean  concave points_mean  \\\n",
       "0          0.11840           0.27760          0.3001              0.14710   \n",
       "1          0.08474           0.07864          0.0869              0.07017   \n",
       "2          0.10960           0.15990          0.1974              0.12790   \n",
       "3          0.14250           0.28390          0.2414              0.10520   \n",
       "4          0.10030           0.13280          0.1980              0.10430   \n",
       "\n",
       "   ...  texture_worst  perimeter_worst  area_worst  smoothness_worst  \\\n",
       "0  ...          17.33           184.60      2019.0            0.1622   \n",
       "1  ...          23.41           158.80      1956.0            0.1238   \n",
       "2  ...          25.53           152.50      1709.0            0.1444   \n",
       "3  ...          26.50            98.87       567.7            0.2098   \n",
       "4  ...          16.67           152.20      1575.0            0.1374   \n",
       "\n",
       "   compactness_worst  concavity_worst  concave points_worst  symmetry_worst  \\\n",
       "0             0.6656           0.7119                0.2654          0.4601   \n",
       "1             0.1866           0.2416                0.1860          0.2750   \n",
       "2             0.4245           0.4504                0.2430          0.3613   \n",
       "3             0.8663           0.6869                0.2575          0.6638   \n",
       "4             0.2050           0.4000                0.1625          0.2364   \n",
       "\n",
       "   fractal_dimension_worst  Unnamed: 32  \n",
       "0                  0.11890          NaN  \n",
       "1                  0.08902          NaN  \n",
       "2                  0.08758          NaN  \n",
       "3                  0.17300          NaN  \n",
       "4                  0.07678          NaN  \n",
       "\n",
       "[5 rows x 33 columns]"
      ]
     },
     "execution_count": 38,
     "metadata": {},
     "output_type": "execute_result"
    }
   ],
   "source": [
    "df = pd.read_csv('https://raw.githubusercontent.com/gscdit/Breast-Cancer-Detection/refs/heads/master/data.csv')\n",
    "df.head()"
   ]
  },
  {
   "cell_type": "code",
   "execution_count": 39,
   "id": "27a6ab1e-6fa5-4ab3-86b0-603f13ad7884",
   "metadata": {},
   "outputs": [
    {
     "data": {
      "text/plain": [
       "(569, 33)"
      ]
     },
     "execution_count": 39,
     "metadata": {},
     "output_type": "execute_result"
    }
   ],
   "source": [
    "df.shape"
   ]
  },
  {
   "cell_type": "markdown",
   "id": "ac25cb15-f566-4200-9673-994ac9930f2a",
   "metadata": {},
   "source": [
    "## Data Processing"
   ]
  },
  {
   "cell_type": "code",
   "execution_count": 40,
   "id": "e0e8dcd4-4491-4538-885d-dfa0b279cf75",
   "metadata": {},
   "outputs": [],
   "source": [
    "df.drop(columns=['id', 'Unnamed: 32'], inplace=True)"
   ]
  },
  {
   "cell_type": "code",
   "execution_count": 41,
   "id": "a45b72f1-becc-4ca8-b962-8d6faebac014",
   "metadata": {},
   "outputs": [
    {
     "data": {
      "text/plain": [
       "(569, 31)"
      ]
     },
     "execution_count": 41,
     "metadata": {},
     "output_type": "execute_result"
    }
   ],
   "source": [
    "df.shape"
   ]
  },
  {
   "cell_type": "markdown",
   "id": "141466fb-f536-4aa9-b2ff-3c9e0d719fb8",
   "metadata": {},
   "source": [
    "## Train Test Split"
   ]
  },
  {
   "cell_type": "code",
   "execution_count": 42,
   "id": "59307f88-05fe-4e2f-84a2-8906d841a260",
   "metadata": {},
   "outputs": [],
   "source": [
    "X_train, X_test, y_train, y_test = train_test_split(df.iloc[:, 1:], df.iloc[:, 0], test_size=0.2, random_state=42)"
   ]
  },
  {
   "cell_type": "code",
   "execution_count": 43,
   "id": "77e76e06-0f71-41d3-a829-c0e606ae0988",
   "metadata": {},
   "outputs": [
    {
     "name": "stdout",
     "output_type": "stream",
     "text": [
      "(455, 30)\n",
      "(455,)\n",
      "(114, 30)\n",
      "(114,)\n"
     ]
    }
   ],
   "source": [
    "print(X_train.shape)\n",
    "print(y_train.shape)\n",
    "print(X_test.shape)\n",
    "print(y_test.shape)"
   ]
  },
  {
   "cell_type": "markdown",
   "id": "ab9f358a-986e-45e5-86b7-2733fdfd04bf",
   "metadata": {},
   "source": [
    "## Scaling "
   ]
  },
  {
   "cell_type": "code",
   "execution_count": 44,
   "id": "5fb716b9-fceb-4825-a9bc-168486bacfa7",
   "metadata": {},
   "outputs": [],
   "source": [
    "scaler = StandardScaler()\n",
    "\n",
    "X_train = scaler.fit_transform(X_train)\n",
    "X_test = scaler.transform(X_test)"
   ]
  },
  {
   "cell_type": "code",
   "execution_count": 45,
   "id": "d2dd79f7-9e20-4b14-857f-6b7eee17b4b3",
   "metadata": {},
   "outputs": [
    {
     "data": {
      "text/plain": [
       "array([[-1.44075296, -0.43531947, -1.36208497, ...,  0.9320124 ,\n",
       "         2.09724217,  1.88645014],\n",
       "       [ 1.97409619,  1.73302577,  2.09167167, ...,  2.6989469 ,\n",
       "         1.89116053,  2.49783848],\n",
       "       [-1.39998202, -1.24962228, -1.34520926, ..., -0.97023893,\n",
       "         0.59760192,  0.0578942 ],\n",
       "       ...,\n",
       "       [ 0.04880192, -0.55500086, -0.06512547, ..., -1.23903365,\n",
       "        -0.70863864, -1.27145475],\n",
       "       [-0.03896885,  0.10207345, -0.03137406, ...,  1.05001236,\n",
       "         0.43432185,  1.21336207],\n",
       "       [-0.54860557,  0.31327591, -0.60350155, ..., -0.61102866,\n",
       "        -0.3345212 , -0.84628745]])"
      ]
     },
     "execution_count": 45,
     "metadata": {},
     "output_type": "execute_result"
    }
   ],
   "source": [
    "X_train"
   ]
  },
  {
   "cell_type": "code",
   "execution_count": 46,
   "id": "0635ab07-424b-4a2d-b498-1bd538b8a68b",
   "metadata": {},
   "outputs": [
    {
     "data": {
      "text/plain": [
       "68     B\n",
       "181    M\n",
       "63     B\n",
       "248    B\n",
       "60     B\n",
       "15     M\n",
       "290    B\n",
       "137    B\n",
       "155    B\n",
       "517    M\n",
       "Name: diagnosis, dtype: object"
      ]
     },
     "execution_count": 46,
     "metadata": {},
     "output_type": "execute_result"
    }
   ],
   "source": [
    "y_train[:10]"
   ]
  },
  {
   "cell_type": "markdown",
   "id": "c657cb13-294b-45d7-941e-0bf4176293d9",
   "metadata": {},
   "source": [
    "## Label Encoding : Traget"
   ]
  },
  {
   "cell_type": "code",
   "execution_count": 47,
   "id": "2ab040c2-c4dc-41ea-a78c-dc47264dd1cb",
   "metadata": {},
   "outputs": [],
   "source": [
    "encoder = LabelEncoder()\n",
    "\n",
    "y_train = encoder.fit_transform(y_train)\n",
    "y_test = encoder.fit_transform(y_test)"
   ]
  },
  {
   "cell_type": "code",
   "execution_count": 48,
   "id": "66b44c12-0c1b-4d4b-b85b-469046292f23",
   "metadata": {},
   "outputs": [
    {
     "data": {
      "text/plain": [
       "array([0, 1, 0, 0, 0, 1, 0, 0, 0, 1])"
      ]
     },
     "execution_count": 48,
     "metadata": {},
     "output_type": "execute_result"
    }
   ],
   "source": [
    "y_train[:10]"
   ]
  },
  {
   "cell_type": "code",
   "execution_count": 49,
   "id": "0abc49db-0865-4580-82d7-3e5e48d2c161",
   "metadata": {},
   "outputs": [
    {
     "data": {
      "text/plain": [
       "(455, 30)"
      ]
     },
     "execution_count": 49,
     "metadata": {},
     "output_type": "execute_result"
    }
   ],
   "source": [
    "X_train.shape"
   ]
  },
  {
   "cell_type": "markdown",
   "id": "473373d2-8b71-4280-9f2a-f93e519d2bc5",
   "metadata": {},
   "source": [
    "## Numpy array to Pytorch Tensors"
   ]
  },
  {
   "cell_type": "code",
   "execution_count": 50,
   "id": "3fd76bba-1c4d-414e-a6f8-5fa026b5a65c",
   "metadata": {},
   "outputs": [],
   "source": [
    "X_train = torch.from_numpy(X_train)\n",
    "X_test = torch.from_numpy(X_test)\n",
    "y_train = torch.from_numpy(y_train)\n",
    "y_test = torch.from_numpy(y_test)"
   ]
  },
  {
   "cell_type": "code",
   "execution_count": 51,
   "id": "d0e28a8b-162a-4601-8143-61624f2e008c",
   "metadata": {},
   "outputs": [
    {
     "data": {
      "text/plain": [
       "torch.Tensor"
      ]
     },
     "execution_count": 51,
     "metadata": {},
     "output_type": "execute_result"
    }
   ],
   "source": [
    "type(X_test)"
   ]
  },
  {
   "cell_type": "markdown",
   "id": "7cd9b083-36bd-469d-8304-f90a06ace3ac",
   "metadata": {},
   "source": [
    "## Define Model"
   ]
  },
  {
   "cell_type": "code",
   "execution_count": 68,
   "id": "b9d26726-5e7c-43c8-994a-2daed9928b52",
   "metadata": {},
   "outputs": [],
   "source": [
    "class MySimpleNN(nn.Module):\n",
    "\n",
    "    def __init__(self, num_features):\n",
    "\n",
    "        super().__init__()\n",
    "        self.linear = nn.Linear(num_features, 1)\n",
    "        self.sigmoid = nn.Sigmoid()\n",
    "        \n",
    "    # forward pass\n",
    "    def forward(self, features):\n",
    "        out = self.linear(features)\n",
    "        out = self.sigmoid(out)\n",
    "        return out\n",
    "    "
   ]
  },
  {
   "cell_type": "markdown",
   "id": "9a52638f-8b7b-489c-8cc6-a24e67db5cb9",
   "metadata": {},
   "source": [
    "## Important Parameters"
   ]
  },
  {
   "cell_type": "code",
   "execution_count": 53,
   "id": "d6b3c3b1-630d-4096-b377-78ed7eb2c573",
   "metadata": {},
   "outputs": [],
   "source": [
    "learning_rate = 0.1\n",
    "epochs = 25"
   ]
  },
  {
   "cell_type": "code",
   "execution_count": 69,
   "id": "5e087b4f-ab36-4695-b253-2d57a1bbd765",
   "metadata": {},
   "outputs": [],
   "source": [
    "# define loss function\n",
    "loss_function = nn.BCELoss()"
   ]
  },
  {
   "cell_type": "code",
   "execution_count": null,
   "id": "44792fd3-c6a4-4664-bbd5-4c8b24d8809c",
   "metadata": {},
   "outputs": [],
   "source": []
  },
  {
   "cell_type": "code",
   "execution_count": 55,
   "id": "49a3af54-73d8-47cb-88b3-b882a70c2910",
   "metadata": {},
   "outputs": [],
   "source": [
    "# Ensure tensors are of the same dtype\n",
    "X_train = X_train.float()  # Convert input to Float tensor\n",
    "y_train = y_train.float()  # Convert labels to Float tensor"
   ]
  },
  {
   "cell_type": "markdown",
   "id": "5d14e475-a688-4b02-b988-c260246f0e06",
   "metadata": {},
   "source": [
    "## Training Pipeline"
   ]
  },
  {
   "cell_type": "code",
   "execution_count": 73,
   "id": "4768f5d6-0dde-4b9d-9928-6e27a0b262e7",
   "metadata": {},
   "outputs": [
    {
     "name": "stdout",
     "output_type": "stream",
     "text": [
      "Epoch 1, Loss: 0.615679144859314\n",
      "Epoch 2, Loss: 0.5060924887657166\n",
      "Epoch 3, Loss: 0.43842053413391113\n",
      "Epoch 4, Loss: 0.3921525478363037\n",
      "Epoch 5, Loss: 0.35823214054107666\n",
      "Epoch 6, Loss: 0.3320963680744171\n",
      "Epoch 7, Loss: 0.3112028241157532\n",
      "Epoch 8, Loss: 0.29402270913124084\n",
      "Epoch 9, Loss: 0.27957993745803833\n",
      "Epoch 10, Loss: 0.2672213613986969\n",
      "Epoch 11, Loss: 0.25649216771125793\n",
      "Epoch 12, Loss: 0.2470654547214508\n",
      "Epoch 13, Loss: 0.23869949579238892\n",
      "Epoch 14, Loss: 0.23121139407157898\n",
      "Epoch 15, Loss: 0.2244599461555481\n",
      "Epoch 16, Loss: 0.21833398938179016\n",
      "Epoch 17, Loss: 0.21274477243423462\n",
      "Epoch 18, Loss: 0.207620307803154\n",
      "Epoch 19, Loss: 0.2029014229774475\n",
      "Epoch 20, Loss: 0.1985391229391098\n",
      "Epoch 21, Loss: 0.1944921463727951\n",
      "Epoch 22, Loss: 0.190725639462471\n",
      "Epoch 23, Loss: 0.18720978498458862\n",
      "Epoch 24, Loss: 0.1839189976453781\n",
      "Epoch 25, Loss: 0.18083105981349945\n"
     ]
    }
   ],
   "source": [
    "# create model\n",
    "model = MySimpleNN(X_train.shape[1])\n",
    "\n",
    "# define optimizer:\n",
    "optimizer = torch.optim.SGD(model.parameters(), lr=learning_rate)\n",
    "\n",
    "# define loop\n",
    "for epoch in range(epochs):\n",
    "    \n",
    "    # forward pass\n",
    "    y_pred = model(X_train)\n",
    "\n",
    "    # loss calculation\n",
    "    loss = loss_function(y_pred, y_train.view(-1,1))\n",
    "\n",
    "    # zeros gradients\n",
    "    optimizer.zero_grad()\n",
    "    \n",
    "    # backward pass\n",
    "    loss.backward()\n",
    "\n",
    "    # parameter update\n",
    "    optimizer.step()\n",
    "\n",
    "    # print loss in each epoch\n",
    "    print(f\"Epoch {epoch+1}, Loss: {loss.item()}\")"
   ]
  },
  {
   "cell_type": "code",
   "execution_count": 58,
   "id": "21503a04-01a8-436f-b283-ed0f84aac905",
   "metadata": {},
   "outputs": [
    {
     "name": "stdout",
     "output_type": "stream",
     "text": [
      "Weights shape torch.Size([1, 30])\n",
      "Bias shape torch.Size([1])\n"
     ]
    }
   ],
   "source": [
    "print(\"Weights shape\", model.linear.weight.shape)\n",
    "print(\"Bias shape\", model.linear.bias.shape)"
   ]
  },
  {
   "cell_type": "code",
   "execution_count": 61,
   "id": "ab12c5c1-591d-4b2b-8d6d-41827c04a51f",
   "metadata": {},
   "outputs": [
    {
     "name": "stdout",
     "output_type": "stream",
     "text": [
      "Parameter containing:\n",
      "tensor([[-0.0399, -0.1087,  0.0896,  0.0716,  0.0067, -0.1160,  0.0913,  0.0922,\n",
      "          0.0815,  0.0968,  0.1092,  0.1007, -0.2176,  0.0200, -0.0296, -0.1063,\n",
      "         -0.1063,  0.0745,  0.0236,  0.0449, -0.0428,  0.0026,  0.0604, -0.0740,\n",
      "          0.0917, -0.1142,  0.1231, -0.0523, -0.0147, -0.1036]],\n",
      "       requires_grad=True)\n"
     ]
    }
   ],
   "source": [
    "print(model.linear.weight)"
   ]
  },
  {
   "cell_type": "markdown",
   "id": "628f5074-de61-44a8-841c-cb3996578e62",
   "metadata": {},
   "source": [
    "## Evaluation"
   ]
  },
  {
   "cell_type": "code",
   "execution_count": 63,
   "id": "2dfac3dc-b09a-46f4-b39c-f8f1a9ab40e0",
   "metadata": {},
   "outputs": [],
   "source": [
    "X_test = X_test.float()  # Convert input to Float tensor\n",
    "y_test = y_test.float()  # Convert labels to Float tensor"
   ]
  },
  {
   "cell_type": "code",
   "execution_count": 64,
   "id": "1ff485d9-ed44-4a01-a506-722f6e0772e9",
   "metadata": {},
   "outputs": [
    {
     "data": {
      "text/plain": [
       "tensor([[0.4339],\n",
       "        [0.3845],\n",
       "        [0.4708],\n",
       "        [0.4114],\n",
       "        [0.4505],\n",
       "        [0.3584],\n",
       "        [0.4003],\n",
       "        [0.4145],\n",
       "        [0.4358],\n",
       "        [0.3686],\n",
       "        [0.4150],\n",
       "        [0.4441],\n",
       "        [0.4124],\n",
       "        [0.5046],\n",
       "        [0.4335],\n",
       "        [0.4859],\n",
       "        [0.4424],\n",
       "        [0.4483],\n",
       "        [0.5039],\n",
       "        [0.4883],\n",
       "        [0.3790],\n",
       "        [0.4808],\n",
       "        [0.4622],\n",
       "        [0.4124],\n",
       "        [0.3875],\n",
       "        [0.5659],\n",
       "        [0.3853],\n",
       "        [0.4008],\n",
       "        [0.4357],\n",
       "        [0.2742],\n",
       "        [0.4108],\n",
       "        [0.4414],\n",
       "        [0.4905],\n",
       "        [0.4038],\n",
       "        [0.4580],\n",
       "        [0.4513],\n",
       "        [0.3785],\n",
       "        [0.4996],\n",
       "        [0.4356],\n",
       "        [0.3758],\n",
       "        [0.4450],\n",
       "        [0.4423],\n",
       "        [0.4514],\n",
       "        [0.3757],\n",
       "        [0.5804],\n",
       "        [0.4153],\n",
       "        [0.5182],\n",
       "        [0.3977],\n",
       "        [0.4036],\n",
       "        [0.3769],\n",
       "        [0.4398],\n",
       "        [0.4360],\n",
       "        [0.3506],\n",
       "        [0.6050],\n",
       "        [0.3988],\n",
       "        [0.3934],\n",
       "        [0.4528],\n",
       "        [0.3957],\n",
       "        [0.3750],\n",
       "        [0.4539],\n",
       "        [0.4044],\n",
       "        [0.4446],\n",
       "        [0.5080],\n",
       "        [0.3449],\n",
       "        [0.4411],\n",
       "        [0.3274],\n",
       "        [0.4367],\n",
       "        [0.4756],\n",
       "        [0.5075],\n",
       "        [0.3400],\n",
       "        [0.4637],\n",
       "        [0.3272],\n",
       "        [0.4665],\n",
       "        [0.4220],\n",
       "        [0.3834],\n",
       "        [0.4365],\n",
       "        [0.4090],\n",
       "        [0.4350],\n",
       "        [0.3900],\n",
       "        [0.5128],\n",
       "        [0.4422],\n",
       "        [0.4352],\n",
       "        [0.4838],\n",
       "        [0.4560],\n",
       "        [0.4130],\n",
       "        [0.4995],\n",
       "        [0.2520],\n",
       "        [0.3366],\n",
       "        [0.2996],\n",
       "        [0.4545],\n",
       "        [0.4720],\n",
       "        [0.3921],\n",
       "        [0.4259],\n",
       "        [0.4075],\n",
       "        [0.4868],\n",
       "        [0.4260],\n",
       "        [0.4749],\n",
       "        [0.4902],\n",
       "        [0.4855],\n",
       "        [0.3608],\n",
       "        [0.3716],\n",
       "        [0.4535],\n",
       "        [0.3359],\n",
       "        [0.4288],\n",
       "        [0.3919],\n",
       "        [0.4677],\n",
       "        [0.3912],\n",
       "        [0.3388],\n",
       "        [0.4346],\n",
       "        [0.4079],\n",
       "        [0.4400],\n",
       "        [0.4745],\n",
       "        [0.3818],\n",
       "        [0.3510]])"
      ]
     },
     "execution_count": 64,
     "metadata": {},
     "output_type": "execute_result"
    }
   ],
   "source": [
    "with torch.no_grad():\n",
    "    y_pred = model.forward(X_test)\n",
    "\n",
    "y_pred"
   ]
  },
  {
   "cell_type": "code",
   "execution_count": 65,
   "id": "c3ff1e40-b7e2-42ad-bb96-b7971b1c0329",
   "metadata": {},
   "outputs": [],
   "source": [
    "# convert in 1 or 0\n",
    "y_pred = (y_pred > 0.5).float()"
   ]
  },
  {
   "cell_type": "code",
   "execution_count": 66,
   "id": "5e1ec07d-80ed-4f09-8b85-49d5a75e40d6",
   "metadata": {},
   "outputs": [
    {
     "data": {
      "text/plain": [
       "tensor([[0.],\n",
       "        [0.],\n",
       "        [0.],\n",
       "        [0.],\n",
       "        [0.],\n",
       "        [0.],\n",
       "        [0.],\n",
       "        [0.],\n",
       "        [0.],\n",
       "        [0.],\n",
       "        [0.],\n",
       "        [0.],\n",
       "        [0.],\n",
       "        [1.],\n",
       "        [0.],\n",
       "        [0.],\n",
       "        [0.],\n",
       "        [0.],\n",
       "        [1.],\n",
       "        [0.],\n",
       "        [0.],\n",
       "        [0.],\n",
       "        [0.],\n",
       "        [0.],\n",
       "        [0.],\n",
       "        [1.],\n",
       "        [0.],\n",
       "        [0.],\n",
       "        [0.],\n",
       "        [0.],\n",
       "        [0.],\n",
       "        [0.],\n",
       "        [0.],\n",
       "        [0.],\n",
       "        [0.],\n",
       "        [0.],\n",
       "        [0.],\n",
       "        [0.],\n",
       "        [0.],\n",
       "        [0.],\n",
       "        [0.],\n",
       "        [0.],\n",
       "        [0.],\n",
       "        [0.],\n",
       "        [1.],\n",
       "        [0.],\n",
       "        [1.],\n",
       "        [0.],\n",
       "        [0.],\n",
       "        [0.],\n",
       "        [0.],\n",
       "        [0.],\n",
       "        [0.],\n",
       "        [1.],\n",
       "        [0.],\n",
       "        [0.],\n",
       "        [0.],\n",
       "        [0.],\n",
       "        [0.],\n",
       "        [0.],\n",
       "        [0.],\n",
       "        [0.],\n",
       "        [1.],\n",
       "        [0.],\n",
       "        [0.],\n",
       "        [0.],\n",
       "        [0.],\n",
       "        [0.],\n",
       "        [1.],\n",
       "        [0.],\n",
       "        [0.],\n",
       "        [0.],\n",
       "        [0.],\n",
       "        [0.],\n",
       "        [0.],\n",
       "        [0.],\n",
       "        [0.],\n",
       "        [0.],\n",
       "        [0.],\n",
       "        [1.],\n",
       "        [0.],\n",
       "        [0.],\n",
       "        [0.],\n",
       "        [0.],\n",
       "        [0.],\n",
       "        [0.],\n",
       "        [0.],\n",
       "        [0.],\n",
       "        [0.],\n",
       "        [0.],\n",
       "        [0.],\n",
       "        [0.],\n",
       "        [0.],\n",
       "        [0.],\n",
       "        [0.],\n",
       "        [0.],\n",
       "        [0.],\n",
       "        [0.],\n",
       "        [0.],\n",
       "        [0.],\n",
       "        [0.],\n",
       "        [0.],\n",
       "        [0.],\n",
       "        [0.],\n",
       "        [0.],\n",
       "        [0.],\n",
       "        [0.],\n",
       "        [0.],\n",
       "        [0.],\n",
       "        [0.],\n",
       "        [0.],\n",
       "        [0.],\n",
       "        [0.],\n",
       "        [0.]])"
      ]
     },
     "execution_count": 66,
     "metadata": {},
     "output_type": "execute_result"
    }
   ],
   "source": [
    "y_pred"
   ]
  },
  {
   "cell_type": "markdown",
   "id": "245da29f-5879-46c0-9207-90bb1d79094d",
   "metadata": {},
   "source": [
    "## Accuracy"
   ]
  },
  {
   "cell_type": "code",
   "execution_count": 67,
   "id": "83e1c4ac-d978-448a-97b3-2886b45d1252",
   "metadata": {},
   "outputs": [
    {
     "name": "stdout",
     "output_type": "stream",
     "text": [
      "tensor(0.6034)\n"
     ]
    }
   ],
   "source": [
    "accuracy = (y_pred == y_test).float().mean()\n",
    "\n",
    "print(accuracy)"
   ]
  },
  {
   "cell_type": "code",
   "execution_count": null,
   "id": "47b0bb7c-c080-4f88-b65e-ad56e15ab00f",
   "metadata": {},
   "outputs": [],
   "source": []
  }
 ],
 "metadata": {
  "kernelspec": {
   "display_name": "Python (rapids-24.10)",
   "language": "python",
   "name": "base"
  },
  "language_info": {
   "codemirror_mode": {
    "name": "ipython",
    "version": 3
   },
   "file_extension": ".py",
   "mimetype": "text/x-python",
   "name": "python",
   "nbconvert_exporter": "python",
   "pygments_lexer": "ipython3",
   "version": "3.10.15"
  }
 },
 "nbformat": 4,
 "nbformat_minor": 5
}
