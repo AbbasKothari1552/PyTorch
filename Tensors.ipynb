{
 "cells": [
  {
   "cell_type": "markdown",
   "id": "cd75134b-0b50-4db4-b28c-5b41a629018e",
   "metadata": {},
   "source": [
    "# PyTroch : Tensors"
   ]
  },
  {
   "cell_type": "code",
   "execution_count": 1,
   "id": "68c04612-c164-4209-934f-c3637b4b8297",
   "metadata": {},
   "outputs": [],
   "source": [
    "import torch"
   ]
  },
  {
   "cell_type": "code",
   "execution_count": 5,
   "id": "f3246148-ae1d-4df6-9e53-54be6b90481b",
   "metadata": {},
   "outputs": [
    {
     "name": "stdout",
     "output_type": "stream",
     "text": [
      "2.5.1\n"
     ]
    }
   ],
   "source": [
    "print(torch.__version__)"
   ]
  },
  {
   "cell_type": "code",
   "execution_count": 6,
   "id": "e3f41ab1-53f2-46a1-a9d2-f1a9aeed0327",
   "metadata": {},
   "outputs": [
    {
     "name": "stdout",
     "output_type": "stream",
     "text": [
      "True\n"
     ]
    }
   ],
   "source": [
    "print(torch.cuda.is_available())"
   ]
  },
  {
   "cell_type": "code",
   "execution_count": 7,
   "id": "2b9cfa68-c24e-4213-88b0-1463cfd2d86f",
   "metadata": {},
   "outputs": [
    {
     "name": "stdout",
     "output_type": "stream",
     "text": [
      "NVIDIA GeForce RTX 3050 Laptop GPU\n"
     ]
    }
   ],
   "source": [
    "print(torch.cuda.get_device_name(0))"
   ]
  },
  {
   "cell_type": "markdown",
   "id": "f4705b79-4189-4bb4-906c-6815e695cd8f",
   "metadata": {},
   "source": [
    "## Creating a Tensor"
   ]
  },
  {
   "cell_type": "code",
   "execution_count": null,
   "id": "e9a692aa-97ba-4f5d-aa0a-44797c988cf2",
   "metadata": {},
   "outputs": [],
   "source": []
  },
  {
   "cell_type": "code",
   "execution_count": 9,
   "id": "c139abc7-851a-490a-bf8a-f7afd0a07477",
   "metadata": {},
   "outputs": [
    {
     "data": {
      "text/plain": [
       "torch.Tensor"
      ]
     },
     "execution_count": 9,
     "metadata": {},
     "output_type": "execute_result"
    }
   ],
   "source": [
    "a = torch.empty(2,3)\n",
    "type(a)"
   ]
  },
  {
   "cell_type": "code",
   "execution_count": 10,
   "id": "7b5fcc27-acc0-4ea2-a1f3-13fae763d72c",
   "metadata": {},
   "outputs": [
    {
     "data": {
      "text/plain": [
       "tensor([[0., 0., 0.],\n",
       "        [0., 0., 0.]])"
      ]
     },
     "execution_count": 10,
     "metadata": {},
     "output_type": "execute_result"
    }
   ],
   "source": [
    "torch.zeros(2,3)"
   ]
  },
  {
   "cell_type": "code",
   "execution_count": 11,
   "id": "7955aa7f-602e-4e3a-ad16-336aaeb42190",
   "metadata": {},
   "outputs": [
    {
     "data": {
      "text/plain": [
       "tensor([[1., 1., 1.],\n",
       "        [1., 1., 1.]])"
      ]
     },
     "execution_count": 11,
     "metadata": {},
     "output_type": "execute_result"
    }
   ],
   "source": [
    "torch.ones(2,3)"
   ]
  },
  {
   "cell_type": "code",
   "execution_count": 12,
   "id": "7c7908c3-423a-4fe2-a923-f02efbfe5c99",
   "metadata": {},
   "outputs": [
    {
     "data": {
      "text/plain": [
       "tensor([[0.0382, 0.6280, 0.2742],\n",
       "        [0.5899, 0.7565, 0.6166]])"
      ]
     },
     "execution_count": 12,
     "metadata": {},
     "output_type": "execute_result"
    }
   ],
   "source": [
    "torch.rand(2,3)"
   ]
  },
  {
   "cell_type": "code",
   "execution_count": 21,
   "id": "a912036d-4eb8-4bd7-87b3-fd97a269d5c7",
   "metadata": {},
   "outputs": [
    {
     "data": {
      "text/plain": [
       "tensor([[0.1117, 0.8158, 0.2626],\n",
       "        [0.4839, 0.6765, 0.7539]])"
      ]
     },
     "execution_count": 21,
     "metadata": {},
     "output_type": "execute_result"
    }
   ],
   "source": [
    "# manual seed\n",
    "torch.manual_seed(100)\n",
    "torch.rand(2,3)"
   ]
  },
  {
   "cell_type": "code",
   "execution_count": 22,
   "id": "344daf81-eaa1-45fc-862b-29d4eb063c23",
   "metadata": {},
   "outputs": [
    {
     "data": {
      "text/plain": [
       "tensor([[0.1117, 0.8158, 0.2626],\n",
       "        [0.4839, 0.6765, 0.7539]])"
      ]
     },
     "execution_count": 22,
     "metadata": {},
     "output_type": "execute_result"
    }
   ],
   "source": [
    "torch.manual_seed(100)\n",
    "torch.rand(2,3)"
   ]
  },
  {
   "cell_type": "code",
   "execution_count": 24,
   "id": "2c14f06d-4208-49e6-9e95-9c044236597b",
   "metadata": {},
   "outputs": [
    {
     "data": {
      "text/plain": [
       "tensor([[1, 2, 3],\n",
       "        [4, 5, 6]])"
      ]
     },
     "execution_count": 24,
     "metadata": {},
     "output_type": "execute_result"
    }
   ],
   "source": [
    "torch.tensor([[1,2,3],[4,5,6]])"
   ]
  },
  {
   "cell_type": "code",
   "execution_count": 25,
   "id": "412e9d43-9abc-4a71-99f5-276c07e2f292",
   "metadata": {},
   "outputs": [
    {
     "data": {
      "text/plain": [
       "tensor([0, 1, 2, 3, 4, 5, 6, 7, 8, 9])"
      ]
     },
     "execution_count": 25,
     "metadata": {},
     "output_type": "execute_result"
    }
   ],
   "source": [
    "torch.arange(0,10)"
   ]
  },
  {
   "cell_type": "code",
   "execution_count": 26,
   "id": "c75e62ea-db71-41ce-baee-a6ec6d36b385",
   "metadata": {},
   "outputs": [
    {
     "data": {
      "text/plain": [
       "tensor([ 0,  2,  4,  6,  8, 10, 12, 14, 16, 18])"
      ]
     },
     "execution_count": 26,
     "metadata": {},
     "output_type": "execute_result"
    }
   ],
   "source": [
    "torch.arange(0,20,2)"
   ]
  },
  {
   "cell_type": "code",
   "execution_count": 31,
   "id": "dee5ed6f-8b32-4512-a653-f7cb8df83c2a",
   "metadata": {},
   "outputs": [
    {
     "data": {
      "text/plain": [
       "tensor([ 1.0000,  4.2222,  7.4444, 10.6667, 13.8889, 17.1111, 20.3333, 23.5556,\n",
       "        26.7778, 30.0000])"
      ]
     },
     "execution_count": 31,
     "metadata": {},
     "output_type": "execute_result"
    }
   ],
   "source": [
    "torch.linspace(1,30,10) # 10 evenly space between each values"
   ]
  },
  {
   "cell_type": "code",
   "execution_count": 33,
   "id": "fca0b0ac-e7b6-46cc-ad6d-a6f5095b086b",
   "metadata": {},
   "outputs": [
    {
     "data": {
      "text/plain": [
       "tensor([[1., 0., 0.],\n",
       "        [0., 1., 0.],\n",
       "        [0., 0., 1.]])"
      ]
     },
     "execution_count": 33,
     "metadata": {},
     "output_type": "execute_result"
    }
   ],
   "source": [
    "# identity matrix\n",
    "torch.eye(3)"
   ]
  },
  {
   "cell_type": "code",
   "execution_count": 35,
   "id": "cd7a6ae6-72dc-47e4-9d56-ddac0577b29e",
   "metadata": {},
   "outputs": [
    {
     "data": {
      "text/plain": [
       "tensor([[5, 5, 5],\n",
       "        [5, 5, 5],\n",
       "        [5, 5, 5]])"
      ]
     },
     "execution_count": 35,
     "metadata": {},
     "output_type": "execute_result"
    }
   ],
   "source": [
    "x = torch.full((3,3), 5)\n",
    "x"
   ]
  },
  {
   "cell_type": "markdown",
   "id": "a73162e8-cdb4-4ac9-8262-ceeb016c02f5",
   "metadata": {},
   "source": [
    "### Tensor Shape"
   ]
  },
  {
   "cell_type": "code",
   "execution_count": 36,
   "id": "96e270dd-d42f-4c64-a74a-356fc9c2ed97",
   "metadata": {},
   "outputs": [
    {
     "data": {
      "text/plain": [
       "tensor([[1, 2, 3],\n",
       "        [4, 5, 6]])"
      ]
     },
     "execution_count": 36,
     "metadata": {},
     "output_type": "execute_result"
    }
   ],
   "source": [
    "x = torch.tensor([[1,2,3],[4,5,6]])\n",
    "x"
   ]
  },
  {
   "cell_type": "code",
   "execution_count": 37,
   "id": "840efc80-f8f0-4e48-a69d-de8f8511a631",
   "metadata": {},
   "outputs": [
    {
     "data": {
      "text/plain": [
       "torch.Size([2, 3])"
      ]
     },
     "execution_count": 37,
     "metadata": {},
     "output_type": "execute_result"
    }
   ],
   "source": [
    "x.shape"
   ]
  },
  {
   "cell_type": "markdown",
   "id": "6f7a5bee-2ae7-4feb-aeb5-0fd0e04764a7",
   "metadata": {},
   "source": [
    "#### Copy shape of a tensor"
   ]
  },
  {
   "cell_type": "code",
   "execution_count": 41,
   "id": "6a2a111d-a340-493e-80c1-ad14fc463730",
   "metadata": {},
   "outputs": [
    {
     "data": {
      "text/plain": [
       "torch.Size([2, 3])"
      ]
     },
     "execution_count": 41,
     "metadata": {},
     "output_type": "execute_result"
    }
   ],
   "source": [
    "y = torch.empty_like(x)\n",
    "y.shape"
   ]
  },
  {
   "cell_type": "code",
   "execution_count": 43,
   "id": "3cd801ff-758b-4c27-b3f6-bad2ab3cc3fd",
   "metadata": {},
   "outputs": [
    {
     "data": {
      "text/plain": [
       "tensor([[0, 0, 0],\n",
       "        [0, 0, 0]])"
      ]
     },
     "execution_count": 43,
     "metadata": {},
     "output_type": "execute_result"
    }
   ],
   "source": [
    "y = torch.zeros_like(x)\n",
    "y"
   ]
  },
  {
   "cell_type": "code",
   "execution_count": 44,
   "id": "07eee5d0-3d2c-4460-9d9b-90fb32319b2e",
   "metadata": {},
   "outputs": [
    {
     "data": {
      "text/plain": [
       "tensor([[1, 1, 1],\n",
       "        [1, 1, 1]])"
      ]
     },
     "execution_count": 44,
     "metadata": {},
     "output_type": "execute_result"
    }
   ],
   "source": [
    "y = torch.ones_like(x)\n",
    "y"
   ]
  },
  {
   "cell_type": "code",
   "execution_count": 55,
   "id": "ddbf2b98-7378-4a88-8019-f95cb0f47cd2",
   "metadata": {},
   "outputs": [
    {
     "data": {
      "text/plain": [
       "tensor([[0.7911, 0.4274, 0.4460],\n",
       "        [0.5522, 0.9559, 0.9405]], dtype=torch.float64)"
      ]
     },
     "execution_count": 55,
     "metadata": {},
     "output_type": "execute_result"
    }
   ],
   "source": [
    "y = torch.rand_like(x, dtype=torch.float64)\n",
    "y"
   ]
  },
  {
   "cell_type": "markdown",
   "id": "407124ff-77b7-425f-a4b0-e95e1bae1b83",
   "metadata": {},
   "source": [
    "### Tensor Data Types"
   ]
  },
  {
   "cell_type": "code",
   "execution_count": 46,
   "id": "8382fa19-844c-4882-afef-f9acc31f97d8",
   "metadata": {},
   "outputs": [
    {
     "data": {
      "text/plain": [
       "torch.int64"
      ]
     },
     "execution_count": 46,
     "metadata": {},
     "output_type": "execute_result"
    }
   ],
   "source": [
    "x = torch.tensor([[1,2,3],[4,5,6]])\n",
    "x.dtype"
   ]
  },
  {
   "cell_type": "code",
   "execution_count": 51,
   "id": "8d7b8049-3890-4477-8b13-cbf4b1fb427f",
   "metadata": {},
   "outputs": [
    {
     "name": "stdout",
     "output_type": "stream",
     "text": [
      "tensor([[1, 2, 3],\n",
      "        [4, 5, 6]], dtype=torch.int32)\n"
     ]
    }
   ],
   "source": [
    "# assign a datatype\n",
    "x = torch.tensor([[1.2,2.8,3],[4,5,6]], dtype=torch.int32)\n",
    "print(x)"
   ]
  },
  {
   "cell_type": "code",
   "execution_count": 52,
   "id": "973c12f3-3da1-4f58-856a-8a0de56b54dc",
   "metadata": {},
   "outputs": [
    {
     "data": {
      "text/plain": [
       "tensor([[1., 2., 3.],\n",
       "        [4., 5., 6.]])"
      ]
     },
     "execution_count": 52,
     "metadata": {},
     "output_type": "execute_result"
    }
   ],
   "source": [
    "x = torch.tensor([[1,2,3],[4,5,6]], dtype=torch.float32)\n",
    "x"
   ]
  },
  {
   "cell_type": "code",
   "execution_count": 53,
   "id": "caae1886-5013-44d7-9164-cc5d8a7c59ff",
   "metadata": {},
   "outputs": [
    {
     "data": {
      "text/plain": [
       "tensor([[1, 2, 3],\n",
       "        [4, 5, 6]], dtype=torch.int32)"
      ]
     },
     "execution_count": 53,
     "metadata": {},
     "output_type": "execute_result"
    }
   ],
   "source": [
    "# convert datatype\n",
    "x.to(torch.int32)"
   ]
  },
  {
   "cell_type": "markdown",
   "id": "092fd089-3eea-4072-9421-4295eb6f1351",
   "metadata": {},
   "source": [
    "### Mathematical Operations"
   ]
  },
  {
   "cell_type": "code",
   "execution_count": 57,
   "id": "321f299a-79d0-4ce9-9b59-7bc5f6e5df65",
   "metadata": {},
   "outputs": [],
   "source": [
    "x = torch.rand(3,3)"
   ]
  },
  {
   "cell_type": "code",
   "execution_count": 59,
   "id": "729fe403-d1c8-4096-a3e9-e698a92ac89c",
   "metadata": {},
   "outputs": [
    {
     "data": {
      "text/plain": [
       "tensor([[0.8902, 0.5163, 0.0359],\n",
       "        [0.6476, 0.3430, 0.3182],\n",
       "        [0.5261, 0.0447, 0.5123]])"
      ]
     },
     "execution_count": 59,
     "metadata": {},
     "output_type": "execute_result"
    }
   ],
   "source": [
    "x"
   ]
  },
  {
   "cell_type": "code",
   "execution_count": 58,
   "id": "be5e3657-f1cb-41d2-b7a5-dc4ea71b6347",
   "metadata": {},
   "outputs": [
    {
     "data": {
      "text/plain": [
       "tensor([[2.8902, 2.5163, 2.0359],\n",
       "        [2.6476, 2.3430, 2.3182],\n",
       "        [2.5261, 2.0447, 2.5123]])"
      ]
     },
     "execution_count": 58,
     "metadata": {},
     "output_type": "execute_result"
    }
   ],
   "source": [
    "# Addition\n",
    "x + 2"
   ]
  },
  {
   "cell_type": "code",
   "execution_count": 60,
   "id": "5b9d8be7-f134-4322-8861-54b8eb576147",
   "metadata": {},
   "outputs": [
    {
     "data": {
      "text/plain": [
       "tensor([[-2.1098, -2.4837, -2.9641],\n",
       "        [-2.3524, -2.6570, -2.6818],\n",
       "        [-2.4739, -2.9553, -2.4877]])"
      ]
     },
     "execution_count": 60,
     "metadata": {},
     "output_type": "execute_result"
    }
   ],
   "source": [
    "x - 3"
   ]
  },
  {
   "cell_type": "code",
   "execution_count": 63,
   "id": "c5d1749b-b7a4-41c9-966a-21bb021e3da6",
   "metadata": {},
   "outputs": [
    {
     "data": {
      "text/plain": [
       "tensor([[8901.9795, 5162.7129,  358.8456],\n",
       "        [6476.3276, 3430.2563, 3182.4023],\n",
       "        [5260.8770,  446.5872, 5123.4800]])"
      ]
     },
     "execution_count": 63,
     "metadata": {},
     "output_type": "execute_result"
    }
   ],
   "source": [
    "x = x * 100\n",
    "x"
   ]
  },
  {
   "cell_type": "code",
   "execution_count": 65,
   "id": "b759937f-7964-40c5-afbe-aff5e8de439f",
   "metadata": {},
   "outputs": [
    {
     "data": {
      "text/plain": [
       "tensor([[890.1979, 516.2713,  35.8846],\n",
       "        [647.6328, 343.0256, 318.2402],\n",
       "        [526.0877,  44.6587, 512.3480]])"
      ]
     },
     "execution_count": 65,
     "metadata": {},
     "output_type": "execute_result"
    }
   ],
   "source": [
    "x = x / 10\n",
    "x"
   ]
  },
  {
   "cell_type": "code",
   "execution_count": 66,
   "id": "eb4d052f-be5a-49a6-b161-14330009e1a4",
   "metadata": {},
   "outputs": [
    {
     "data": {
      "text/plain": [
       "tensor([[0.1979, 0.2713, 1.8846],\n",
       "        [1.6328, 1.0256, 0.2402],\n",
       "        [0.0877, 0.6587, 0.3480]])"
      ]
     },
     "execution_count": 66,
     "metadata": {},
     "output_type": "execute_result"
    }
   ],
   "source": [
    "x = x % 2\n",
    "x"
   ]
  },
  {
   "cell_type": "markdown",
   "id": "844f2527-912f-415a-ab05-ea588dd304ab",
   "metadata": {},
   "source": [
    "#### 2 Tensors"
   ]
  },
  {
   "cell_type": "code",
   "execution_count": 67,
   "id": "5762df2d-c9f6-416a-8933-f3a94186eaa7",
   "metadata": {},
   "outputs": [],
   "source": [
    "x = torch.ones(3,3)\n",
    "y = torch.ones(3,3)"
   ]
  },
  {
   "cell_type": "code",
   "execution_count": 69,
   "id": "4bdeb097-a965-4865-ad9e-77e18c4a9054",
   "metadata": {},
   "outputs": [
    {
     "data": {
      "text/plain": [
       "tensor([[2., 2., 2.],\n",
       "        [2., 2., 2.],\n",
       "        [2., 2., 2.]])"
      ]
     },
     "execution_count": 69,
     "metadata": {},
     "output_type": "execute_result"
    }
   ],
   "source": [
    "x + y"
   ]
  },
  {
   "cell_type": "code",
   "execution_count": 72,
   "id": "f56966b4-c904-4992-9352-e3a78173fd19",
   "metadata": {},
   "outputs": [],
   "source": [
    "x = y+2"
   ]
  },
  {
   "cell_type": "code",
   "execution_count": 75,
   "id": "a52b093a-e112-4333-b662-7fc9c8251006",
   "metadata": {},
   "outputs": [
    {
     "name": "stdout",
     "output_type": "stream",
     "text": [
      "tensor([[5., 5., 5.],\n",
      "        [5., 5., 5.],\n",
      "        [5., 5., 5.]])\n",
      "tensor([[3., 3., 3.],\n",
      "        [3., 3., 3.],\n",
      "        [3., 3., 3.]])\n"
     ]
    }
   ],
   "source": [
    "print(x)\n",
    "print(y)"
   ]
  },
  {
   "cell_type": "code",
   "execution_count": 73,
   "id": "3656f3d3-7500-4c20-9f1a-6b3da877e221",
   "metadata": {},
   "outputs": [
    {
     "data": {
      "text/plain": [
       "tensor([[125., 125., 125.],\n",
       "        [125., 125., 125.],\n",
       "        [125., 125., 125.]])"
      ]
     },
     "execution_count": 73,
     "metadata": {},
     "output_type": "execute_result"
    }
   ],
   "source": [
    "x ** y"
   ]
  },
  {
   "cell_type": "markdown",
   "id": "0fc6ff59-7105-4ea1-85cc-1413abd73bc4",
   "metadata": {},
   "source": [
    "#### Other operations"
   ]
  },
  {
   "cell_type": "code",
   "execution_count": 77,
   "id": "ca08a25f-684d-484c-878c-bde6b4123e52",
   "metadata": {},
   "outputs": [],
   "source": [
    "x = torch.tensor([1,2,-3,4,-5])"
   ]
  },
  {
   "cell_type": "code",
   "execution_count": 78,
   "id": "49da4a0a-96e5-4ee8-bfef-c99474124bcd",
   "metadata": {},
   "outputs": [
    {
     "data": {
      "text/plain": [
       "tensor([1, 2, 3, 4, 5])"
      ]
     },
     "execution_count": 78,
     "metadata": {},
     "output_type": "execute_result"
    }
   ],
   "source": [
    "torch.abs(x)"
   ]
  },
  {
   "cell_type": "code",
   "execution_count": 79,
   "id": "aba74a04-1efb-4eac-9ddc-e1551704e974",
   "metadata": {},
   "outputs": [
    {
     "data": {
      "text/plain": [
       "tensor([-1, -2,  3, -4,  5])"
      ]
     },
     "execution_count": 79,
     "metadata": {},
     "output_type": "execute_result"
    }
   ],
   "source": [
    "torch.neg(x)"
   ]
  },
  {
   "cell_type": "code",
   "execution_count": 81,
   "id": "b96f921a-70e0-4ec0-9220-b2eef21bdb39",
   "metadata": {},
   "outputs": [
    {
     "data": {
      "text/plain": [
       "tensor([1., 1., 0.])"
      ]
     },
     "execution_count": 81,
     "metadata": {},
     "output_type": "execute_result"
    }
   ],
   "source": [
    "x = torch.rand(3)\n",
    "torch.round(x)"
   ]
  },
  {
   "cell_type": "code",
   "execution_count": 82,
   "id": "689e3c32-0d2e-4414-bc1d-2eae7e745698",
   "metadata": {},
   "outputs": [],
   "source": [
    "x = torch.tensor([3.5, 6.8, 1.3, 9.4])"
   ]
  },
  {
   "cell_type": "code",
   "execution_count": 83,
   "id": "bee57bf2-02a5-4c54-9592-b864cb21508c",
   "metadata": {},
   "outputs": [
    {
     "data": {
      "text/plain": [
       "tensor([ 4.,  7.,  2., 10.])"
      ]
     },
     "execution_count": 83,
     "metadata": {},
     "output_type": "execute_result"
    }
   ],
   "source": [
    "torch.ceil(x)"
   ]
  },
  {
   "cell_type": "code",
   "execution_count": 84,
   "id": "9b73a1ee-2ea7-44bd-b10b-b0a7a47541a9",
   "metadata": {},
   "outputs": [
    {
     "data": {
      "text/plain": [
       "tensor([3., 6., 1., 9.])"
      ]
     },
     "execution_count": 84,
     "metadata": {},
     "output_type": "execute_result"
    }
   ],
   "source": [
    "torch.floor(x)"
   ]
  },
  {
   "cell_type": "code",
   "execution_count": 88,
   "id": "824784ae-53ad-408b-a96e-7da643235845",
   "metadata": {},
   "outputs": [
    {
     "data": {
      "text/plain": [
       "tensor([3.5000, 6.8000, 3.0000, 8.0000])"
      ]
     },
     "execution_count": 88,
     "metadata": {},
     "output_type": "execute_result"
    }
   ],
   "source": [
    "# clamp : all values should be converted in range btw min & max\n",
    "torch.clamp(x, min=3, max=8)"
   ]
  },
  {
   "cell_type": "markdown",
   "id": "2f2b5bd6-07bb-4b23-9f80-92978c995a9d",
   "metadata": {},
   "source": [
    "## Reduction Operation"
   ]
  },
  {
   "cell_type": "code",
   "execution_count": 90,
   "id": "f8e4fbc3-a88d-4262-b643-a871af74c4e3",
   "metadata": {},
   "outputs": [
    {
     "data": {
      "text/plain": [
       "tensor([[5, 5, 0],\n",
       "        [4, 3, 8],\n",
       "        [8, 3, 3]])"
      ]
     },
     "execution_count": 90,
     "metadata": {},
     "output_type": "execute_result"
    }
   ],
   "source": [
    "x = torch.randint(size=(3,3), low=0, high=10)\n",
    "x"
   ]
  },
  {
   "cell_type": "code",
   "execution_count": 91,
   "id": "6e028b40-69ef-44e8-b3fa-4175b66ad380",
   "metadata": {},
   "outputs": [
    {
     "data": {
      "text/plain": [
       "tensor(39)"
      ]
     },
     "execution_count": 91,
     "metadata": {},
     "output_type": "execute_result"
    }
   ],
   "source": [
    "x.sum()"
   ]
  },
  {
   "cell_type": "code",
   "execution_count": 97,
   "id": "7c8f1ff8-0f91-4b70-ba24-7e6092427b26",
   "metadata": {},
   "outputs": [
    {
     "name": "stdout",
     "output_type": "stream",
     "text": [
      "tensor([17, 11, 11])\n",
      "tensor([17, 11, 11])\n"
     ]
    }
   ],
   "source": [
    "# column wise summation\n",
    "print(x.sum(axis=0)) # also write (dim = 0)\n",
    "print(torch.sum(x, dim=0))"
   ]
  },
  {
   "cell_type": "code",
   "execution_count": 95,
   "id": "254f2f09-3a27-4be2-94f1-6be078b50a7f",
   "metadata": {},
   "outputs": [
    {
     "data": {
      "text/plain": [
       "tensor([10, 15, 14])"
      ]
     },
     "execution_count": 95,
     "metadata": {},
     "output_type": "execute_result"
    }
   ],
   "source": [
    "# row wise\n",
    "x.sum(dim=1)"
   ]
  },
  {
   "cell_type": "code",
   "execution_count": 101,
   "id": "bbb556f4-021b-4d33-b3a6-f3eb6449d2e9",
   "metadata": {},
   "outputs": [
    {
     "name": "stdout",
     "output_type": "stream",
     "text": [
      "tensor([[3., 8., 5.],\n",
      "        [6., 2., 9.],\n",
      "        [5., 0., 4.]], dtype=torch.float64)\n"
     ]
    },
    {
     "data": {
      "text/plain": [
       "tensor(4.6667, dtype=torch.float64)"
      ]
     },
     "execution_count": 101,
     "metadata": {},
     "output_type": "execute_result"
    }
   ],
   "source": [
    "# mean\n",
    "x = torch.randint(size=(3,3), low=0, high=10, dtype=torch.float64)\n",
    "print(x)\n",
    "torch.mean(x)"
   ]
  },
  {
   "cell_type": "code",
   "execution_count": 102,
   "id": "6a2e9295-98b8-4889-bc02-a53c67ca5bce",
   "metadata": {},
   "outputs": [
    {
     "name": "stdout",
     "output_type": "stream",
     "text": [
      "tensor([4.6667, 3.3333, 6.0000], dtype=torch.float64)\n",
      "tensor([5.3333, 5.6667, 3.0000], dtype=torch.float64)\n"
     ]
    }
   ],
   "source": [
    "# column\n",
    "print(torch.mean(x, dim=0))\n",
    "# row\n",
    "print(torch.mean(x, dim=1))"
   ]
  },
  {
   "cell_type": "code",
   "execution_count": 103,
   "id": "7808e7fd-e836-49bf-a757-a0ea77f8dcb5",
   "metadata": {},
   "outputs": [
    {
     "data": {
      "text/plain": [
       "tensor(5., dtype=torch.float64)"
      ]
     },
     "execution_count": 103,
     "metadata": {},
     "output_type": "execute_result"
    }
   ],
   "source": [
    "# Median\n",
    "torch.median(x)"
   ]
  },
  {
   "cell_type": "code",
   "execution_count": 104,
   "id": "3cd49aeb-e26f-4f21-824e-4d8f23668ba5",
   "metadata": {},
   "outputs": [
    {
     "name": "stdout",
     "output_type": "stream",
     "text": [
      "tensor(9., dtype=torch.float64)\n",
      "tensor(0., dtype=torch.float64)\n"
     ]
    }
   ],
   "source": [
    "# max & min\n",
    "print(torch.max(x))\n",
    "print(torch.min(x))"
   ]
  },
  {
   "cell_type": "markdown",
   "id": "d6040d50-c99c-4c2b-8667-4a719ee1f342",
   "metadata": {},
   "source": [
    "## Matrix operation"
   ]
  },
  {
   "cell_type": "code",
   "execution_count": 111,
   "id": "f0e1cd0b-8307-41ae-b545-7e9841d6b9bf",
   "metadata": {},
   "outputs": [],
   "source": [
    "a = torch.randint(size=(3,3), low=0, high=10, dtype=torch.float64)\n",
    "b = torch.randint(size=(3,3), low=0, high=10, dtype=torch.float64)"
   ]
  },
  {
   "cell_type": "code",
   "execution_count": 112,
   "id": "dd6abdd6-73fb-45b0-bc6a-89b0952362a1",
   "metadata": {},
   "outputs": [
    {
     "name": "stdout",
     "output_type": "stream",
     "text": [
      "tensor([[4., 6., 6.],\n",
      "        [8., 4., 9.],\n",
      "        [0., 7., 9.]], dtype=torch.float64)\n",
      "tensor([[2., 7., 0.],\n",
      "        [2., 4., 4.],\n",
      "        [6., 2., 1.]], dtype=torch.float64)\n"
     ]
    }
   ],
   "source": [
    "print(a)\n",
    "print(b)"
   ]
  },
  {
   "cell_type": "code",
   "execution_count": 115,
   "id": "4b47b708-f6fb-4e2d-8fb9-31d262a3aa59",
   "metadata": {},
   "outputs": [
    {
     "data": {
      "text/plain": [
       "tensor([[56., 64., 30.],\n",
       "        [78., 90., 25.],\n",
       "        [68., 46., 37.]], dtype=torch.float64)"
      ]
     },
     "execution_count": 115,
     "metadata": {},
     "output_type": "execute_result"
    }
   ],
   "source": [
    "# multiplication\n",
    "m = torch.matmul(a, b)\n",
    "m"
   ]
  },
  {
   "cell_type": "code",
   "execution_count": 120,
   "id": "ec7292e3-bc5e-4998-a46c-a42abff840f5",
   "metadata": {},
   "outputs": [
    {
     "data": {
      "text/plain": [
       "tensor(148.5400)"
      ]
     },
     "execution_count": 120,
     "metadata": {},
     "output_type": "execute_result"
    }
   ],
   "source": [
    "# Dot Product\n",
    "c = torch.tensor([3.5, 6.8, 1.3, 9.4])\n",
    "d = torch.tensor([3.5, 6.8, 1.3, 9.4])\n",
    "dot = torch.dot(c, d)\n",
    "dot"
   ]
  },
  {
   "cell_type": "code",
   "execution_count": 126,
   "id": "d00cfb65-768e-4f42-b982-17e64bbb5a07",
   "metadata": {},
   "outputs": [
    {
     "name": "stdout",
     "output_type": "stream",
     "text": [
      "Before: tensor([[4., 6., 6.],\n",
      "        [8., 4., 9.],\n",
      "        [0., 7., 9.]], dtype=torch.float64)\n",
      "tensor([[4., 8., 0.],\n",
      "        [6., 4., 7.],\n",
      "        [6., 9., 9.]], dtype=torch.float64)\n"
     ]
    }
   ],
   "source": [
    "# transpose\n",
    "print(\"Before:\", a)\n",
    "a = torch.transpose(a, 0, 1)\n",
    "print(a)"
   ]
  },
  {
   "cell_type": "markdown",
   "id": "101b6d6a-be06-4645-b38e-2db9365c9c1f",
   "metadata": {},
   "source": [
    "## Special Functions"
   ]
  },
  {
   "cell_type": "code",
   "execution_count": 128,
   "id": "0aa57fae-27dc-447b-9f89-d9a8a19eae14",
   "metadata": {},
   "outputs": [
    {
     "data": {
      "text/plain": [
       "tensor([[8., 1., 6.],\n",
       "        [4., 5., 4.],\n",
       "        [9., 4., 7.]], dtype=torch.float64)"
      ]
     },
     "execution_count": 128,
     "metadata": {},
     "output_type": "execute_result"
    }
   ],
   "source": [
    "x = torch.randint(size=(3,3), low=1, high=10, dtype=torch.float64)\n",
    "x"
   ]
  },
  {
   "cell_type": "code",
   "execution_count": 130,
   "id": "c6a22e00-c83b-40ec-a017-3160efc6b135",
   "metadata": {},
   "outputs": [
    {
     "data": {
      "text/plain": [
       "tensor([[2.0794, 0.0000, 1.7918],\n",
       "        [1.3863, 1.6094, 1.3863],\n",
       "        [2.1972, 1.3863, 1.9459]], dtype=torch.float64)"
      ]
     },
     "execution_count": 130,
     "metadata": {},
     "output_type": "execute_result"
    }
   ],
   "source": [
    "# log\n",
    "x.log()\n",
    "torch.log(x)"
   ]
  },
  {
   "cell_type": "code",
   "execution_count": 131,
   "id": "ef14b5a4-3018-4bcb-b908-481748e8797d",
   "metadata": {},
   "outputs": [
    {
     "data": {
      "text/plain": [
       "tensor([[2.9810e+03, 2.7183e+00, 4.0343e+02],\n",
       "        [5.4598e+01, 1.4841e+02, 5.4598e+01],\n",
       "        [8.1031e+03, 5.4598e+01, 1.0966e+03]], dtype=torch.float64)"
      ]
     },
     "execution_count": 131,
     "metadata": {},
     "output_type": "execute_result"
    }
   ],
   "source": [
    "x.exp()"
   ]
  },
  {
   "cell_type": "code",
   "execution_count": 132,
   "id": "3d54a58d-f243-4645-9c93-f45e3e750ff0",
   "metadata": {},
   "outputs": [
    {
     "data": {
      "text/plain": [
       "tensor([[2.8284, 1.0000, 2.4495],\n",
       "        [2.0000, 2.2361, 2.0000],\n",
       "        [3.0000, 2.0000, 2.6458]], dtype=torch.float64)"
      ]
     },
     "execution_count": 132,
     "metadata": {},
     "output_type": "execute_result"
    }
   ],
   "source": [
    "x.sqrt()"
   ]
  },
  {
   "cell_type": "code",
   "execution_count": 133,
   "id": "c58aafe6-bd46-48c0-9041-23b1e9a65ae1",
   "metadata": {},
   "outputs": [
    {
     "data": {
      "text/plain": [
       "tensor([[0.9997, 0.7311, 0.9975],\n",
       "        [0.9820, 0.9933, 0.9820],\n",
       "        [0.9999, 0.9820, 0.9991]], dtype=torch.float64)"
      ]
     },
     "execution_count": 133,
     "metadata": {},
     "output_type": "execute_result"
    }
   ],
   "source": [
    "x.sigmoid()"
   ]
  },
  {
   "cell_type": "code",
   "execution_count": 135,
   "id": "18c0739e-b381-4d88-9884-9c8f31835126",
   "metadata": {},
   "outputs": [
    {
     "data": {
      "text/plain": [
       "tensor([[8.8009e-01, 8.0254e-04, 1.1911e-01],\n",
       "        [2.1194e-01, 5.7612e-01, 2.1194e-01],\n",
       "        [8.7560e-01, 5.8998e-03, 1.1850e-01]], dtype=torch.float64)"
      ]
     },
     "execution_count": 135,
     "metadata": {},
     "output_type": "execute_result"
    }
   ],
   "source": [
    "x.softmax(1)"
   ]
  },
  {
   "cell_type": "code",
   "execution_count": 136,
   "id": "5cd6bf5c-f881-44fb-914d-0c1fcfee6244",
   "metadata": {},
   "outputs": [
    {
     "data": {
      "text/plain": [
       "tensor([[8., 1., 6.],\n",
       "        [4., 5., 4.],\n",
       "        [9., 4., 7.]], dtype=torch.float64)"
      ]
     },
     "execution_count": 136,
     "metadata": {},
     "output_type": "execute_result"
    }
   ],
   "source": [
    "x.relu()"
   ]
  },
  {
   "cell_type": "markdown",
   "id": "065a7f9f-cb08-4052-a457-3b13d918d2ca",
   "metadata": {},
   "source": [
    "### Inplace Operation <br>\n",
    "Writing `_` at the end of function makes it inplace operation"
   ]
  },
  {
   "cell_type": "code",
   "execution_count": 138,
   "id": "f639ad89-03e1-4357-93d5-0b7fa2d737de",
   "metadata": {},
   "outputs": [],
   "source": [
    "a = torch.rand(3,3)\n",
    "b = torch.rand(3,3)"
   ]
  },
  {
   "cell_type": "code",
   "execution_count": 139,
   "id": "477dbbba-5746-479e-9baf-c86fe52b015d",
   "metadata": {},
   "outputs": [
    {
     "data": {
      "text/plain": [
       "(tensor([[0.6818, 0.1953, 0.9991],\n",
       "         [0.1133, 0.0135, 0.1450],\n",
       "         [0.7819, 0.3134, 0.2983]]),\n",
       " tensor([[0.3436, 0.2028, 0.9792],\n",
       "         [0.4947, 0.3617, 0.9687],\n",
       "         [0.0359, 0.3041, 0.9867]]))"
      ]
     },
     "execution_count": 139,
     "metadata": {},
     "output_type": "execute_result"
    }
   ],
   "source": [
    "a, b"
   ]
  },
  {
   "cell_type": "code",
   "execution_count": 140,
   "id": "9e1d0867-918c-4744-a0c3-d2b335e40431",
   "metadata": {},
   "outputs": [
    {
     "data": {
      "text/plain": [
       "tensor([[1.0253, 0.3981, 1.9783],\n",
       "        [0.6080, 0.3752, 1.1137],\n",
       "        [0.8179, 0.6175, 1.2850]])"
      ]
     },
     "execution_count": 140,
     "metadata": {},
     "output_type": "execute_result"
    }
   ],
   "source": [
    "a.add_(b)"
   ]
  },
  {
   "cell_type": "code",
   "execution_count": 141,
   "id": "637d2d3f-6a13-439a-9219-12f8b81d38f5",
   "metadata": {},
   "outputs": [
    {
     "data": {
      "text/plain": [
       "tensor([[1.0253, 0.3981, 1.9783],\n",
       "        [0.6080, 0.3752, 1.1137],\n",
       "        [0.8179, 0.6175, 1.2850]])"
      ]
     },
     "execution_count": 141,
     "metadata": {},
     "output_type": "execute_result"
    }
   ],
   "source": [
    "a"
   ]
  },
  {
   "cell_type": "markdown",
   "id": "bef01b4b-49a3-4331-9dd3-6ddb06eb6d18",
   "metadata": {},
   "source": [
    "### Copying Tensor"
   ]
  },
  {
   "cell_type": "code",
   "execution_count": 142,
   "id": "c1c6e1c5-ff1d-4b85-82d8-754298193144",
   "metadata": {},
   "outputs": [
    {
     "name": "stdout",
     "output_type": "stream",
     "text": [
      "The history saving thread hit an unexpected error (OperationalError('attempt to write a readonly database')).History will not be written to the database.\n"
     ]
    },
    {
     "data": {
      "text/plain": [
       "tensor([[0.1290, 0.6887, 0.1637],\n",
       "        [0.0899, 0.3139, 0.1219],\n",
       "        [0.3516, 0.2316, 0.2847]])"
      ]
     },
     "execution_count": 142,
     "metadata": {},
     "output_type": "execute_result"
    }
   ],
   "source": [
    "a = torch.rand(3,3)\n",
    "a"
   ]
  },
  {
   "cell_type": "code",
   "execution_count": 143,
   "id": "f6e0eb76-4a7e-4cea-bae7-4a31e1ae7440",
   "metadata": {},
   "outputs": [
    {
     "data": {
      "text/plain": [
       "tensor([[0.3436, 0.2028, 0.9792],\n",
       "        [0.4947, 0.3617, 0.9687],\n",
       "        [0.0359, 0.3041, 0.9867]])"
      ]
     },
     "execution_count": 143,
     "metadata": {},
     "output_type": "execute_result"
    }
   ],
   "source": [
    "a = b\n",
    "b"
   ]
  },
  {
   "cell_type": "code",
   "execution_count": 144,
   "id": "35314488-b567-4854-aa0c-2637edc3b536",
   "metadata": {},
   "outputs": [],
   "source": [
    "b[0][0] = 99"
   ]
  },
  {
   "cell_type": "code",
   "execution_count": 146,
   "id": "f4d20c7d-40bf-4987-a228-53b1a6316eaf",
   "metadata": {},
   "outputs": [
    {
     "data": {
      "text/plain": [
       "(tensor([[9.9000e+01, 2.0277e-01, 9.7920e-01],\n",
       "         [4.9468e-01, 3.6170e-01, 9.6867e-01],\n",
       "         [3.5917e-02, 3.0412e-01, 9.8666e-01]]),\n",
       " tensor([[9.9000e+01, 2.0277e-01, 9.7920e-01],\n",
       "         [4.9468e-01, 3.6170e-01, 9.6867e-01],\n",
       "         [3.5917e-02, 3.0412e-01, 9.8666e-01]]))"
      ]
     },
     "execution_count": 146,
     "metadata": {},
     "output_type": "execute_result"
    }
   ],
   "source": [
    "a, b # in both the changes are reflected!!"
   ]
  },
  {
   "cell_type": "code",
   "execution_count": 147,
   "id": "eb03b711-28ac-43e0-845e-8e9b9a1fbb77",
   "metadata": {},
   "outputs": [
    {
     "name": "stdout",
     "output_type": "stream",
     "text": [
      "139940246175664\n",
      "139940246175664\n"
     ]
    }
   ],
   "source": [
    "# `a`& `b` are pointing to same memory location\n",
    "print(id(a))\n",
    "print(id(b))"
   ]
  },
  {
   "cell_type": "code",
   "execution_count": 148,
   "id": "747707ce-dd4e-4857-a3a2-14f7e09549f3",
   "metadata": {},
   "outputs": [],
   "source": [
    "# To avoid the same location use `clone()` function\n",
    "b = a.clone()"
   ]
  },
  {
   "cell_type": "code",
   "execution_count": 149,
   "id": "0453571e-22cc-4105-bdec-4277bd0be21a",
   "metadata": {},
   "outputs": [
    {
     "data": {
      "text/plain": [
       "tensor([[9.9000e+01, 2.0277e-01, 9.7920e-01],\n",
       "        [4.9468e-01, 3.6170e-01, 9.6867e-01],\n",
       "        [3.5917e-02, 3.0412e-01, 9.8666e-01]])"
      ]
     },
     "execution_count": 149,
     "metadata": {},
     "output_type": "execute_result"
    }
   ],
   "source": [
    "b"
   ]
  },
  {
   "cell_type": "code",
   "execution_count": 150,
   "id": "dfcfd4ac-4a88-4571-92c0-21f8a0d3c80c",
   "metadata": {},
   "outputs": [
    {
     "name": "stdout",
     "output_type": "stream",
     "text": [
      "139940246175664\n",
      "139940250425584\n"
     ]
    }
   ],
   "source": [
    "print(id(a))\n",
    "print(id(b))"
   ]
  },
  {
   "cell_type": "code",
   "execution_count": 151,
   "id": "db78c86e-dd81-4085-ba04-805c831bf37a",
   "metadata": {},
   "outputs": [],
   "source": [
    "b = b + 100"
   ]
  },
  {
   "cell_type": "code",
   "execution_count": 152,
   "id": "69502a95-4ca4-46c8-886f-cdb5f810bf6e",
   "metadata": {},
   "outputs": [
    {
     "data": {
      "text/plain": [
       "(tensor([[9.9000e+01, 2.0277e-01, 9.7920e-01],\n",
       "         [4.9468e-01, 3.6170e-01, 9.6867e-01],\n",
       "         [3.5917e-02, 3.0412e-01, 9.8666e-01]]),\n",
       " tensor([[199.0000, 100.2028, 100.9792],\n",
       "         [100.4947, 100.3617, 100.9687],\n",
       "         [100.0359, 100.3041, 100.9867]]))"
      ]
     },
     "execution_count": 152,
     "metadata": {},
     "output_type": "execute_result"
    }
   ],
   "source": [
    "a, b"
   ]
  },
  {
   "cell_type": "markdown",
   "id": "c0e8a267-2b51-40e9-a3a5-1d9670267a99",
   "metadata": {},
   "source": [
    "## Tensor Operation on GPU"
   ]
  },
  {
   "cell_type": "code",
   "execution_count": 153,
   "id": "ae879d31-4272-4f69-9e11-ba567656c92c",
   "metadata": {},
   "outputs": [
    {
     "data": {
      "text/plain": [
       "True"
      ]
     },
     "execution_count": 153,
     "metadata": {},
     "output_type": "execute_result"
    }
   ],
   "source": [
    "torch.cuda.is_available()"
   ]
  },
  {
   "cell_type": "code",
   "execution_count": 155,
   "id": "d8302813-cd70-4144-ac34-407c7d26b7cb",
   "metadata": {},
   "outputs": [],
   "source": [
    "device = torch.device('cuda')"
   ]
  },
  {
   "cell_type": "code",
   "execution_count": 156,
   "id": "835fd8ed-0ffb-4a8e-8110-48fb8fca665d",
   "metadata": {},
   "outputs": [
    {
     "data": {
      "text/plain": [
       "tensor([[8., 1., 6.],\n",
       "        [4., 5., 4.],\n",
       "        [9., 4., 7.]], dtype=torch.float64)"
      ]
     },
     "execution_count": 156,
     "metadata": {},
     "output_type": "execute_result"
    }
   ],
   "source": [
    "x"
   ]
  },
  {
   "cell_type": "code",
   "execution_count": 158,
   "id": "729c01c5-edc8-4b20-b9be-aab24fe2f110",
   "metadata": {},
   "outputs": [
    {
     "data": {
      "text/plain": [
       "tensor([[0.8344, 0.7001, 0.5361],\n",
       "        [0.8883, 0.0220, 0.7938],\n",
       "        [0.7543, 0.6514, 0.9609]], device='cuda:0')"
      ]
     },
     "execution_count": 158,
     "metadata": {},
     "output_type": "execute_result"
    }
   ],
   "source": [
    "y = torch.rand((3,3), device=device)\n",
    "y"
   ]
  },
  {
   "cell_type": "code",
   "execution_count": 159,
   "id": "bb1da83d-4f6f-4728-ac61-3bd08142e5f4",
   "metadata": {},
   "outputs": [
    {
     "data": {
      "text/plain": [
       "tensor([[8., 1., 6.],\n",
       "        [4., 5., 4.],\n",
       "        [9., 4., 7.]], device='cuda:0', dtype=torch.float64)"
      ]
     },
     "execution_count": 159,
     "metadata": {},
     "output_type": "execute_result"
    }
   ],
   "source": [
    "# Shift `x` to GPU \n",
    "x.to(device)"
   ]
  },
  {
   "cell_type": "markdown",
   "id": "ad9afe57-2bfe-4c6a-8f38-fa3109ca54e0",
   "metadata": {},
   "source": [
    "### Compare CPU & GPU"
   ]
  },
  {
   "cell_type": "code",
   "execution_count": 162,
   "id": "6f994e30-978d-4bc8-b375-522bf953dc8c",
   "metadata": {},
   "outputs": [
    {
     "name": "stdout",
     "output_type": "stream",
     "text": [
      "CPU Time: 5.220487117767334\n",
      "CPU Time: 0.0011539459228515625\n"
     ]
    }
   ],
   "source": [
    "import time\n",
    "\n",
    "size = 10000\n",
    "\n",
    "matrix_cpu_1 = torch.randn(size, size)\n",
    "matrix_cpu_2 = torch.randn(size, size)\n",
    "\n",
    "start_time = time.time()\n",
    "result_cpu = torch.matmul(matrix_cpu_1, matrix_cpu_2)\n",
    "cpu_time = time.time() - start_time\n",
    "\n",
    "print(f\"CPU Time: {cpu_time}\")\n",
    "\n",
    "matrix_gpu_1 = matrix_cpu_1.to(device)\n",
    "matrix_gpu_2 = matrix_cpu_2.to(device)\n",
    "\n",
    "start_time = time.time()\n",
    "result_cpu = torch.matmul(matrix_gpu_1, matrix_gpu_2)\n",
    "gpu_time = time.time() - start_time\n",
    "\n",
    "print(f\"CPU Time: {gpu_time}\")"
   ]
  },
  {
   "cell_type": "markdown",
   "id": "0a8c10c2-b401-4c28-9ee1-b6bcdae12cc4",
   "metadata": {},
   "source": [
    "### Reshpae Tensor"
   ]
  },
  {
   "cell_type": "code",
   "execution_count": 167,
   "id": "34b19756-613b-43fc-889e-295d487411d0",
   "metadata": {},
   "outputs": [
    {
     "data": {
      "text/plain": [
       "tensor([[-0.1555, -0.8466, -0.5231,  1.5325],\n",
       "        [ 0.0759, -0.2288,  1.4980,  0.2568],\n",
       "        [ 0.1835, -0.1755, -0.3987,  0.2313],\n",
       "        [-0.7313, -0.1407,  0.5595,  1.0269]])"
      ]
     },
     "execution_count": 167,
     "metadata": {},
     "output_type": "execute_result"
    }
   ],
   "source": [
    "x = torch.randn(4, 4)\n",
    "x"
   ]
  },
  {
   "cell_type": "code",
   "execution_count": 166,
   "id": "1b00c27f-cbd2-48b2-a0c4-46e8dbf08d85",
   "metadata": {},
   "outputs": [
    {
     "data": {
      "text/plain": [
       "tensor([[[[-1.4562, -0.3765],\n",
       "          [-0.2657, -1.8280]],\n",
       "\n",
       "         [[-0.7237, -0.6533],\n",
       "          [ 1.0785,  0.9002]]],\n",
       "\n",
       "\n",
       "        [[[-1.7041,  1.3252],\n",
       "          [-0.4099, -0.7070]],\n",
       "\n",
       "         [[ 1.3148, -0.3568],\n",
       "          [-2.8220, -2.2065]]]])"
      ]
     },
     "execution_count": 166,
     "metadata": {},
     "output_type": "execute_result"
    }
   ],
   "source": [
    "x.reshape(2,2,2,2)"
   ]
  },
  {
   "cell_type": "code",
   "execution_count": 168,
   "id": "25726e9c-ac4e-43e2-9c6c-25c013ab987b",
   "metadata": {},
   "outputs": [],
   "source": [
    "x = torch.rand(2,3,4)"
   ]
  },
  {
   "cell_type": "code",
   "execution_count": 169,
   "id": "5f1fec68-ce20-468f-9138-0b1a246d7e50",
   "metadata": {},
   "outputs": [
    {
     "data": {
      "text/plain": [
       "torch.Size([2, 3, 4])"
      ]
     },
     "execution_count": 169,
     "metadata": {},
     "output_type": "execute_result"
    }
   ],
   "source": [
    "x.shape"
   ]
  },
  {
   "cell_type": "code",
   "execution_count": 172,
   "id": "a059cf03-4715-4dc6-b8ba-92095f25d966",
   "metadata": {},
   "outputs": [
    {
     "data": {
      "text/plain": [
       "torch.Size([4, 2, 3])"
      ]
     },
     "execution_count": 172,
     "metadata": {},
     "output_type": "execute_result"
    }
   ],
   "source": [
    "# permute : It interchanges the dimention \n",
    "y = x.permute(2,0,1)\n",
    "y.shape"
   ]
  },
  {
   "cell_type": "code",
   "execution_count": 177,
   "id": "0cbb366f-7e18-4313-bd70-cf91aaf319dd",
   "metadata": {},
   "outputs": [
    {
     "data": {
      "text/plain": [
       "torch.Size([2, 1, 3, 4])"
      ]
     },
     "execution_count": 177,
     "metadata": {},
     "output_type": "execute_result"
    }
   ],
   "source": [
    "# unsqueeze : add a dimention at specified index\n",
    "y = x.unsqueeze(1)\n",
    "y.shape"
   ]
  },
  {
   "cell_type": "code",
   "execution_count": 179,
   "id": "a822c6c5-772d-4cea-9f73-ef9a2792de39",
   "metadata": {},
   "outputs": [
    {
     "data": {
      "text/plain": [
       "tensor([[[0.9738, 0.4766, 0.4465, 0.7665],\n",
       "         [0.8807, 0.6201, 0.5850, 0.4287],\n",
       "         [0.2153, 0.6954, 0.2543, 0.6952]],\n",
       "\n",
       "        [[0.3801, 0.9545, 0.8934, 0.0958],\n",
       "         [0.2108, 0.8729, 0.3142, 0.7949],\n",
       "         [0.4441, 0.9079, 0.8278, 0.3379]]])"
      ]
     },
     "execution_count": 179,
     "metadata": {},
     "output_type": "execute_result"
    }
   ],
   "source": [
    "x"
   ]
  },
  {
   "cell_type": "code",
   "execution_count": 186,
   "id": "a5361c66-fb42-409d-bb0b-f72a6f509818",
   "metadata": {},
   "outputs": [
    {
     "data": {
      "text/plain": [
       "torch.Size([2, 3, 4])"
      ]
     },
     "execution_count": 186,
     "metadata": {},
     "output_type": "execute_result"
    }
   ],
   "source": [
    "# squeeze\n",
    "x.squeeze(0).shape"
   ]
  },
  {
   "cell_type": "code",
   "execution_count": 189,
   "id": "88377025-2d1c-442d-88dc-c439fd668ae7",
   "metadata": {},
   "outputs": [
    {
     "name": "stdout",
     "output_type": "stream",
     "text": [
      "torch.Size([1, 20, 2])\n",
      "torch.Size([20, 2])\n"
     ]
    }
   ],
   "source": [
    "a = torch.rand(1,20,2)\n",
    "print(a.shape)\n",
    "print(a.squeeze(0).shape)"
   ]
  },
  {
   "cell_type": "code",
   "execution_count": null,
   "id": "7c9c607f-ca54-4d3b-89a4-0ea88ef7cfbf",
   "metadata": {},
   "outputs": [],
   "source": []
  }
 ],
 "metadata": {
  "kernelspec": {
   "display_name": "Python (rapids-24.10)",
   "language": "python",
   "name": "base"
  },
  "language_info": {
   "codemirror_mode": {
    "name": "ipython",
    "version": 3
   },
   "file_extension": ".py",
   "mimetype": "text/x-python",
   "name": "python",
   "nbconvert_exporter": "python",
   "pygments_lexer": "ipython3",
   "version": "3.10.15"
  }
 },
 "nbformat": 4,
 "nbformat_minor": 5
}
